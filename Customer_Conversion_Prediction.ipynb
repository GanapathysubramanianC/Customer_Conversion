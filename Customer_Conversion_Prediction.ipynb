{
  "nbformat": 4,
  "nbformat_minor": 0,
  "metadata": {
    "colab": {
      "provenance": []
    },
    "kernelspec": {
      "name": "python3",
      "display_name": "Python 3"
    },
    "language_info": {
      "name": "python"
    }
  },
  "cells": [
    {
      "cell_type": "code",
      "execution_count": 54,
      "metadata": {
        "id": "MzwOwdjJyQdz"
      },
      "outputs": [],
      "source": []
    },
    {
      "cell_type": "markdown",
      "source": [
        "## Importing Required Packages"
      ],
      "metadata": {
        "id": "ozm-9Z2I01Bg"
      }
    },
    {
      "cell_type": "code",
      "source": [
        "pip install -U scikit-learn"
      ],
      "metadata": {
        "colab": {
          "base_uri": "https://localhost:8080/"
        },
        "id": "Kpj7W6sCA_5_",
        "outputId": "17eccee0-d690-4e6c-8c7d-a986e76443d9"
      },
      "execution_count": 108,
      "outputs": [
        {
          "output_type": "stream",
          "name": "stdout",
          "text": [
            "Looking in indexes: https://pypi.org/simple, https://us-python.pkg.dev/colab-wheels/public/simple/\n",
            "Requirement already satisfied: scikit-learn in /usr/local/lib/python3.8/dist-packages (1.2.1)\n",
            "Requirement already satisfied: joblib>=1.1.1 in /usr/local/lib/python3.8/dist-packages (from scikit-learn) (1.2.0)\n",
            "Requirement already satisfied: numpy>=1.17.3 in /usr/local/lib/python3.8/dist-packages (from scikit-learn) (1.22.4)\n",
            "Requirement already satisfied: scipy>=1.3.2 in /usr/local/lib/python3.8/dist-packages (from scikit-learn) (1.10.1)\n",
            "Requirement already satisfied: threadpoolctl>=2.0.0 in /usr/local/lib/python3.8/dist-packages (from scikit-learn) (3.1.0)\n"
          ]
        }
      ]
    },
    {
      "cell_type": "code",
      "source": [
        "import pandas as pd\n",
        "import numpy as np\n",
        "import seaborn as sns\n",
        "import matplotlib.pyplot as plt\n",
        "%matplotlib inline\n",
        "import warnings\n",
        "warnings.filterwarnings('ignore')\n",
        "from collections import Counter\n",
        "\n",
        "from sklearn.model_selection import train_test_split\n",
        "from sklearn.preprocessing import StandardScaler \n",
        "\n",
        "from imblearn.combine import SMOTEENN\n",
        "\n",
        "from sklearn.linear_model import LogisticRegression\n",
        "from sklearn.metrics import roc_auc_score\n",
        "from sklearn.neighbors import KNeighborsClassifier\n",
        "from sklearn.tree import DecisionTreeClassifier\n",
        "from sklearn.ensemble import RandomForestClassifier\n",
        "import xgboost as xgb\n",
        "from xgboost import XGBClassifier\n",
        "\n",
        "from sklearn.model_selection import cross_val_score\n",
        "\n",
        "from sklearn.metrics import accuracy_score\n",
        "from sklearn.metrics import accuracy_score, roc_auc_score, plot_roc_curve"
      ],
      "metadata": {
        "colab": {
          "base_uri": "https://localhost:8080/",
          "height": 357
        },
        "id": "mryeBh7l066C",
        "outputId": "9701910a-a091-41a0-92ef-231901f7caf2"
      },
      "execution_count": 109,
      "outputs": [
        {
          "output_type": "error",
          "ename": "ImportError",
          "evalue": "ignored",
          "traceback": [
            "\u001b[0;31m---------------------------------------------------------------------------\u001b[0m",
            "\u001b[0;31mImportError\u001b[0m                               Traceback (most recent call last)",
            "\u001b[0;32m<ipython-input-109-139e2cd508a7>\u001b[0m in \u001b[0;36m<module>\u001b[0;34m\u001b[0m\n\u001b[1;32m     24\u001b[0m \u001b[0;34m\u001b[0m\u001b[0m\n\u001b[1;32m     25\u001b[0m \u001b[0;32mfrom\u001b[0m \u001b[0msklearn\u001b[0m\u001b[0;34m.\u001b[0m\u001b[0mmetrics\u001b[0m \u001b[0;32mimport\u001b[0m \u001b[0maccuracy_score\u001b[0m\u001b[0;34m\u001b[0m\u001b[0;34m\u001b[0m\u001b[0m\n\u001b[0;32m---> 26\u001b[0;31m \u001b[0;32mfrom\u001b[0m \u001b[0msklearn\u001b[0m\u001b[0;34m.\u001b[0m\u001b[0mmetrics\u001b[0m \u001b[0;32mimport\u001b[0m \u001b[0maccuracy_score\u001b[0m\u001b[0;34m,\u001b[0m \u001b[0mroc_auc_score\u001b[0m\u001b[0;34m,\u001b[0m \u001b[0mplot_roc_curve\u001b[0m\u001b[0;34m\u001b[0m\u001b[0;34m\u001b[0m\u001b[0m\n\u001b[0m",
            "\u001b[0;31mImportError\u001b[0m: cannot import name 'plot_roc_curve' from 'sklearn.metrics' (/usr/local/lib/python3.8/dist-packages/sklearn/metrics/__init__.py)",
            "",
            "\u001b[0;31m---------------------------------------------------------------------------\u001b[0;32m\nNOTE: If your import is failing due to a missing package, you can\nmanually install dependencies using either !pip or !apt.\n\nTo view examples of installing some common dependencies, click the\n\"Open Examples\" button below.\n\u001b[0;31m---------------------------------------------------------------------------\u001b[0m\n"
          ],
          "errorDetails": {
            "actions": [
              {
                "action": "open_url",
                "actionText": "Open Examples",
                "url": "/notebooks/snippets/importing_libraries.ipynb"
              }
            ]
          }
        }
      ]
    },
    {
      "cell_type": "markdown",
      "source": [
        " Loading Dataset"
      ],
      "metadata": {
        "id": "-6cUudnJ00_M"
      }
    },
    {
      "cell_type": "code",
      "source": [
        "df = pd.read_csv(\"/content/Customer Conversion Prediction - Customer Conversion Prediction.csv\")\n",
        "df.head()"
      ],
      "metadata": {
        "colab": {
          "base_uri": "https://localhost:8080/",
          "height": 206
        },
        "id": "qczTfB-c1Wz9",
        "outputId": "e3324fa0-39a2-4c52-eba6-06a267ef8ca4"
      },
      "execution_count": 56,
      "outputs": [
        {
          "output_type": "execute_result",
          "data": {
            "text/plain": [
              "   age           job  marital education_qual call_type  day  mon  dur  \\\n",
              "0   58    management  married       tertiary   unknown    5  may  261   \n",
              "1   44    technician   single      secondary   unknown    5  may  151   \n",
              "2   33  entrepreneur  married      secondary   unknown    5  may   76   \n",
              "3   47   blue-collar  married        unknown   unknown    5  may   92   \n",
              "4   33       unknown   single        unknown   unknown    5  may  198   \n",
              "\n",
              "   num_calls prev_outcome   y  \n",
              "0          1      unknown  no  \n",
              "1          1      unknown  no  \n",
              "2          1      unknown  no  \n",
              "3          1      unknown  no  \n",
              "4          1      unknown  no  "
            ],
            "text/html": [
              "\n",
              "  <div id=\"df-d5714082-737a-465d-985f-4c5db53f02e5\">\n",
              "    <div class=\"colab-df-container\">\n",
              "      <div>\n",
              "<style scoped>\n",
              "    .dataframe tbody tr th:only-of-type {\n",
              "        vertical-align: middle;\n",
              "    }\n",
              "\n",
              "    .dataframe tbody tr th {\n",
              "        vertical-align: top;\n",
              "    }\n",
              "\n",
              "    .dataframe thead th {\n",
              "        text-align: right;\n",
              "    }\n",
              "</style>\n",
              "<table border=\"1\" class=\"dataframe\">\n",
              "  <thead>\n",
              "    <tr style=\"text-align: right;\">\n",
              "      <th></th>\n",
              "      <th>age</th>\n",
              "      <th>job</th>\n",
              "      <th>marital</th>\n",
              "      <th>education_qual</th>\n",
              "      <th>call_type</th>\n",
              "      <th>day</th>\n",
              "      <th>mon</th>\n",
              "      <th>dur</th>\n",
              "      <th>num_calls</th>\n",
              "      <th>prev_outcome</th>\n",
              "      <th>y</th>\n",
              "    </tr>\n",
              "  </thead>\n",
              "  <tbody>\n",
              "    <tr>\n",
              "      <th>0</th>\n",
              "      <td>58</td>\n",
              "      <td>management</td>\n",
              "      <td>married</td>\n",
              "      <td>tertiary</td>\n",
              "      <td>unknown</td>\n",
              "      <td>5</td>\n",
              "      <td>may</td>\n",
              "      <td>261</td>\n",
              "      <td>1</td>\n",
              "      <td>unknown</td>\n",
              "      <td>no</td>\n",
              "    </tr>\n",
              "    <tr>\n",
              "      <th>1</th>\n",
              "      <td>44</td>\n",
              "      <td>technician</td>\n",
              "      <td>single</td>\n",
              "      <td>secondary</td>\n",
              "      <td>unknown</td>\n",
              "      <td>5</td>\n",
              "      <td>may</td>\n",
              "      <td>151</td>\n",
              "      <td>1</td>\n",
              "      <td>unknown</td>\n",
              "      <td>no</td>\n",
              "    </tr>\n",
              "    <tr>\n",
              "      <th>2</th>\n",
              "      <td>33</td>\n",
              "      <td>entrepreneur</td>\n",
              "      <td>married</td>\n",
              "      <td>secondary</td>\n",
              "      <td>unknown</td>\n",
              "      <td>5</td>\n",
              "      <td>may</td>\n",
              "      <td>76</td>\n",
              "      <td>1</td>\n",
              "      <td>unknown</td>\n",
              "      <td>no</td>\n",
              "    </tr>\n",
              "    <tr>\n",
              "      <th>3</th>\n",
              "      <td>47</td>\n",
              "      <td>blue-collar</td>\n",
              "      <td>married</td>\n",
              "      <td>unknown</td>\n",
              "      <td>unknown</td>\n",
              "      <td>5</td>\n",
              "      <td>may</td>\n",
              "      <td>92</td>\n",
              "      <td>1</td>\n",
              "      <td>unknown</td>\n",
              "      <td>no</td>\n",
              "    </tr>\n",
              "    <tr>\n",
              "      <th>4</th>\n",
              "      <td>33</td>\n",
              "      <td>unknown</td>\n",
              "      <td>single</td>\n",
              "      <td>unknown</td>\n",
              "      <td>unknown</td>\n",
              "      <td>5</td>\n",
              "      <td>may</td>\n",
              "      <td>198</td>\n",
              "      <td>1</td>\n",
              "      <td>unknown</td>\n",
              "      <td>no</td>\n",
              "    </tr>\n",
              "  </tbody>\n",
              "</table>\n",
              "</div>\n",
              "      <button class=\"colab-df-convert\" onclick=\"convertToInteractive('df-d5714082-737a-465d-985f-4c5db53f02e5')\"\n",
              "              title=\"Convert this dataframe to an interactive table.\"\n",
              "              style=\"display:none;\">\n",
              "        \n",
              "  <svg xmlns=\"http://www.w3.org/2000/svg\" height=\"24px\"viewBox=\"0 0 24 24\"\n",
              "       width=\"24px\">\n",
              "    <path d=\"M0 0h24v24H0V0z\" fill=\"none\"/>\n",
              "    <path d=\"M18.56 5.44l.94 2.06.94-2.06 2.06-.94-2.06-.94-.94-2.06-.94 2.06-2.06.94zm-11 1L8.5 8.5l.94-2.06 2.06-.94-2.06-.94L8.5 2.5l-.94 2.06-2.06.94zm10 10l.94 2.06.94-2.06 2.06-.94-2.06-.94-.94-2.06-.94 2.06-2.06.94z\"/><path d=\"M17.41 7.96l-1.37-1.37c-.4-.4-.92-.59-1.43-.59-.52 0-1.04.2-1.43.59L10.3 9.45l-7.72 7.72c-.78.78-.78 2.05 0 2.83L4 21.41c.39.39.9.59 1.41.59.51 0 1.02-.2 1.41-.59l7.78-7.78 2.81-2.81c.8-.78.8-2.07 0-2.86zM5.41 20L4 18.59l7.72-7.72 1.47 1.35L5.41 20z\"/>\n",
              "  </svg>\n",
              "      </button>\n",
              "      \n",
              "  <style>\n",
              "    .colab-df-container {\n",
              "      display:flex;\n",
              "      flex-wrap:wrap;\n",
              "      gap: 12px;\n",
              "    }\n",
              "\n",
              "    .colab-df-convert {\n",
              "      background-color: #E8F0FE;\n",
              "      border: none;\n",
              "      border-radius: 50%;\n",
              "      cursor: pointer;\n",
              "      display: none;\n",
              "      fill: #1967D2;\n",
              "      height: 32px;\n",
              "      padding: 0 0 0 0;\n",
              "      width: 32px;\n",
              "    }\n",
              "\n",
              "    .colab-df-convert:hover {\n",
              "      background-color: #E2EBFA;\n",
              "      box-shadow: 0px 1px 2px rgba(60, 64, 67, 0.3), 0px 1px 3px 1px rgba(60, 64, 67, 0.15);\n",
              "      fill: #174EA6;\n",
              "    }\n",
              "\n",
              "    [theme=dark] .colab-df-convert {\n",
              "      background-color: #3B4455;\n",
              "      fill: #D2E3FC;\n",
              "    }\n",
              "\n",
              "    [theme=dark] .colab-df-convert:hover {\n",
              "      background-color: #434B5C;\n",
              "      box-shadow: 0px 1px 3px 1px rgba(0, 0, 0, 0.15);\n",
              "      filter: drop-shadow(0px 1px 2px rgba(0, 0, 0, 0.3));\n",
              "      fill: #FFFFFF;\n",
              "    }\n",
              "  </style>\n",
              "\n",
              "      <script>\n",
              "        const buttonEl =\n",
              "          document.querySelector('#df-d5714082-737a-465d-985f-4c5db53f02e5 button.colab-df-convert');\n",
              "        buttonEl.style.display =\n",
              "          google.colab.kernel.accessAllowed ? 'block' : 'none';\n",
              "\n",
              "        async function convertToInteractive(key) {\n",
              "          const element = document.querySelector('#df-d5714082-737a-465d-985f-4c5db53f02e5');\n",
              "          const dataTable =\n",
              "            await google.colab.kernel.invokeFunction('convertToInteractive',\n",
              "                                                     [key], {});\n",
              "          if (!dataTable) return;\n",
              "\n",
              "          const docLinkHtml = 'Like what you see? Visit the ' +\n",
              "            '<a target=\"_blank\" href=https://colab.research.google.com/notebooks/data_table.ipynb>data table notebook</a>'\n",
              "            + ' to learn more about interactive tables.';\n",
              "          element.innerHTML = '';\n",
              "          dataTable['output_type'] = 'display_data';\n",
              "          await google.colab.output.renderOutput(dataTable, element);\n",
              "          const docLink = document.createElement('div');\n",
              "          docLink.innerHTML = docLinkHtml;\n",
              "          element.appendChild(docLink);\n",
              "        }\n",
              "      </script>\n",
              "    </div>\n",
              "  </div>\n",
              "  "
            ]
          },
          "metadata": {},
          "execution_count": 56
        }
      ]
    },
    {
      "cell_type": "code",
      "source": [
        "df.shape"
      ],
      "metadata": {
        "colab": {
          "base_uri": "https://localhost:8080/"
        },
        "id": "Sdw5WMvC13vw",
        "outputId": "d2afffef-cba6-4e89-8578-86545ebd97dd"
      },
      "execution_count": 57,
      "outputs": [
        {
          "output_type": "execute_result",
          "data": {
            "text/plain": [
              "(45211, 11)"
            ]
          },
          "metadata": {},
          "execution_count": 57
        }
      ]
    },
    {
      "cell_type": "markdown",
      "source": [
        " Checking Missing Values"
      ],
      "metadata": {
        "id": "Wcfn6Be718BD"
      }
    },
    {
      "cell_type": "code",
      "source": [
        "df.isnull().sum()"
      ],
      "metadata": {
        "colab": {
          "base_uri": "https://localhost:8080/"
        },
        "id": "IAsTVEGw19WE",
        "outputId": "a9104fc3-c508-4c79-ef5f-475fb533489f"
      },
      "execution_count": 58,
      "outputs": [
        {
          "output_type": "execute_result",
          "data": {
            "text/plain": [
              "age               0\n",
              "job               0\n",
              "marital           0\n",
              "education_qual    0\n",
              "call_type         0\n",
              "day               0\n",
              "mon               0\n",
              "dur               0\n",
              "num_calls         0\n",
              "prev_outcome      0\n",
              "y                 0\n",
              "dtype: int64"
            ]
          },
          "metadata": {},
          "execution_count": 58
        }
      ]
    },
    {
      "cell_type": "markdown",
      "source": [
        "Dropping Duplicates"
      ],
      "metadata": {
        "id": "SKWMTv-u2KAI"
      }
    },
    {
      "cell_type": "code",
      "source": [
        "df.duplicated().sum()\n",
        "df = df.drop_duplicates()"
      ],
      "metadata": {
        "id": "naGwQ88p2K0G"
      },
      "execution_count": 59,
      "outputs": []
    },
    {
      "cell_type": "markdown",
      "source": [
        "Checking Datatypes"
      ],
      "metadata": {
        "id": "fNQYnvZn2P1v"
      }
    },
    {
      "cell_type": "code",
      "source": [
        "df.dtypes"
      ],
      "metadata": {
        "colab": {
          "base_uri": "https://localhost:8080/"
        },
        "id": "Y5Jfh8xg2Qld",
        "outputId": "f29c8722-0e94-4f5e-8df5-72247b8a5e4d"
      },
      "execution_count": 60,
      "outputs": [
        {
          "output_type": "execute_result",
          "data": {
            "text/plain": [
              "age                int64\n",
              "job               object\n",
              "marital           object\n",
              "education_qual    object\n",
              "call_type         object\n",
              "day                int64\n",
              "mon               object\n",
              "dur                int64\n",
              "num_calls          int64\n",
              "prev_outcome      object\n",
              "y                 object\n",
              "dtype: object"
            ]
          },
          "metadata": {},
          "execution_count": 60
        }
      ]
    },
    {
      "cell_type": "markdown",
      "source": [
        "Describing Numarical Columns"
      ],
      "metadata": {
        "id": "Gve2m3Ef2U6z"
      }
    },
    {
      "cell_type": "code",
      "source": [
        "df.describe()"
      ],
      "metadata": {
        "colab": {
          "base_uri": "https://localhost:8080/",
          "height": 300
        },
        "id": "z7HfL4Jr2VzD",
        "outputId": "fed022d3-d865-49bb-d26d-357687ba00be"
      },
      "execution_count": 61,
      "outputs": [
        {
          "output_type": "execute_result",
          "data": {
            "text/plain": [
              "                age          day           dur     num_calls\n",
              "count  45205.000000  45205.00000  45205.000000  45205.000000\n",
              "mean      40.937087     15.80688    258.183055      2.763898\n",
              "std       10.619130      8.32234    257.538504      3.098189\n",
              "min       18.000000      1.00000      0.000000      1.000000\n",
              "25%       33.000000      8.00000    103.000000      1.000000\n",
              "50%       39.000000     16.00000    180.000000      2.000000\n",
              "75%       48.000000     21.00000    319.000000      3.000000\n",
              "max       95.000000     31.00000   4918.000000     63.000000"
            ],
            "text/html": [
              "\n",
              "  <div id=\"df-54d493c8-bebc-4d37-b321-fab35884e9ac\">\n",
              "    <div class=\"colab-df-container\">\n",
              "      <div>\n",
              "<style scoped>\n",
              "    .dataframe tbody tr th:only-of-type {\n",
              "        vertical-align: middle;\n",
              "    }\n",
              "\n",
              "    .dataframe tbody tr th {\n",
              "        vertical-align: top;\n",
              "    }\n",
              "\n",
              "    .dataframe thead th {\n",
              "        text-align: right;\n",
              "    }\n",
              "</style>\n",
              "<table border=\"1\" class=\"dataframe\">\n",
              "  <thead>\n",
              "    <tr style=\"text-align: right;\">\n",
              "      <th></th>\n",
              "      <th>age</th>\n",
              "      <th>day</th>\n",
              "      <th>dur</th>\n",
              "      <th>num_calls</th>\n",
              "    </tr>\n",
              "  </thead>\n",
              "  <tbody>\n",
              "    <tr>\n",
              "      <th>count</th>\n",
              "      <td>45205.000000</td>\n",
              "      <td>45205.00000</td>\n",
              "      <td>45205.000000</td>\n",
              "      <td>45205.000000</td>\n",
              "    </tr>\n",
              "    <tr>\n",
              "      <th>mean</th>\n",
              "      <td>40.937087</td>\n",
              "      <td>15.80688</td>\n",
              "      <td>258.183055</td>\n",
              "      <td>2.763898</td>\n",
              "    </tr>\n",
              "    <tr>\n",
              "      <th>std</th>\n",
              "      <td>10.619130</td>\n",
              "      <td>8.32234</td>\n",
              "      <td>257.538504</td>\n",
              "      <td>3.098189</td>\n",
              "    </tr>\n",
              "    <tr>\n",
              "      <th>min</th>\n",
              "      <td>18.000000</td>\n",
              "      <td>1.00000</td>\n",
              "      <td>0.000000</td>\n",
              "      <td>1.000000</td>\n",
              "    </tr>\n",
              "    <tr>\n",
              "      <th>25%</th>\n",
              "      <td>33.000000</td>\n",
              "      <td>8.00000</td>\n",
              "      <td>103.000000</td>\n",
              "      <td>1.000000</td>\n",
              "    </tr>\n",
              "    <tr>\n",
              "      <th>50%</th>\n",
              "      <td>39.000000</td>\n",
              "      <td>16.00000</td>\n",
              "      <td>180.000000</td>\n",
              "      <td>2.000000</td>\n",
              "    </tr>\n",
              "    <tr>\n",
              "      <th>75%</th>\n",
              "      <td>48.000000</td>\n",
              "      <td>21.00000</td>\n",
              "      <td>319.000000</td>\n",
              "      <td>3.000000</td>\n",
              "    </tr>\n",
              "    <tr>\n",
              "      <th>max</th>\n",
              "      <td>95.000000</td>\n",
              "      <td>31.00000</td>\n",
              "      <td>4918.000000</td>\n",
              "      <td>63.000000</td>\n",
              "    </tr>\n",
              "  </tbody>\n",
              "</table>\n",
              "</div>\n",
              "      <button class=\"colab-df-convert\" onclick=\"convertToInteractive('df-54d493c8-bebc-4d37-b321-fab35884e9ac')\"\n",
              "              title=\"Convert this dataframe to an interactive table.\"\n",
              "              style=\"display:none;\">\n",
              "        \n",
              "  <svg xmlns=\"http://www.w3.org/2000/svg\" height=\"24px\"viewBox=\"0 0 24 24\"\n",
              "       width=\"24px\">\n",
              "    <path d=\"M0 0h24v24H0V0z\" fill=\"none\"/>\n",
              "    <path d=\"M18.56 5.44l.94 2.06.94-2.06 2.06-.94-2.06-.94-.94-2.06-.94 2.06-2.06.94zm-11 1L8.5 8.5l.94-2.06 2.06-.94-2.06-.94L8.5 2.5l-.94 2.06-2.06.94zm10 10l.94 2.06.94-2.06 2.06-.94-2.06-.94-.94-2.06-.94 2.06-2.06.94z\"/><path d=\"M17.41 7.96l-1.37-1.37c-.4-.4-.92-.59-1.43-.59-.52 0-1.04.2-1.43.59L10.3 9.45l-7.72 7.72c-.78.78-.78 2.05 0 2.83L4 21.41c.39.39.9.59 1.41.59.51 0 1.02-.2 1.41-.59l7.78-7.78 2.81-2.81c.8-.78.8-2.07 0-2.86zM5.41 20L4 18.59l7.72-7.72 1.47 1.35L5.41 20z\"/>\n",
              "  </svg>\n",
              "      </button>\n",
              "      \n",
              "  <style>\n",
              "    .colab-df-container {\n",
              "      display:flex;\n",
              "      flex-wrap:wrap;\n",
              "      gap: 12px;\n",
              "    }\n",
              "\n",
              "    .colab-df-convert {\n",
              "      background-color: #E8F0FE;\n",
              "      border: none;\n",
              "      border-radius: 50%;\n",
              "      cursor: pointer;\n",
              "      display: none;\n",
              "      fill: #1967D2;\n",
              "      height: 32px;\n",
              "      padding: 0 0 0 0;\n",
              "      width: 32px;\n",
              "    }\n",
              "\n",
              "    .colab-df-convert:hover {\n",
              "      background-color: #E2EBFA;\n",
              "      box-shadow: 0px 1px 2px rgba(60, 64, 67, 0.3), 0px 1px 3px 1px rgba(60, 64, 67, 0.15);\n",
              "      fill: #174EA6;\n",
              "    }\n",
              "\n",
              "    [theme=dark] .colab-df-convert {\n",
              "      background-color: #3B4455;\n",
              "      fill: #D2E3FC;\n",
              "    }\n",
              "\n",
              "    [theme=dark] .colab-df-convert:hover {\n",
              "      background-color: #434B5C;\n",
              "      box-shadow: 0px 1px 3px 1px rgba(0, 0, 0, 0.15);\n",
              "      filter: drop-shadow(0px 1px 2px rgba(0, 0, 0, 0.3));\n",
              "      fill: #FFFFFF;\n",
              "    }\n",
              "  </style>\n",
              "\n",
              "      <script>\n",
              "        const buttonEl =\n",
              "          document.querySelector('#df-54d493c8-bebc-4d37-b321-fab35884e9ac button.colab-df-convert');\n",
              "        buttonEl.style.display =\n",
              "          google.colab.kernel.accessAllowed ? 'block' : 'none';\n",
              "\n",
              "        async function convertToInteractive(key) {\n",
              "          const element = document.querySelector('#df-54d493c8-bebc-4d37-b321-fab35884e9ac');\n",
              "          const dataTable =\n",
              "            await google.colab.kernel.invokeFunction('convertToInteractive',\n",
              "                                                     [key], {});\n",
              "          if (!dataTable) return;\n",
              "\n",
              "          const docLinkHtml = 'Like what you see? Visit the ' +\n",
              "            '<a target=\"_blank\" href=https://colab.research.google.com/notebooks/data_table.ipynb>data table notebook</a>'\n",
              "            + ' to learn more about interactive tables.';\n",
              "          element.innerHTML = '';\n",
              "          dataTable['output_type'] = 'display_data';\n",
              "          await google.colab.output.renderOutput(dataTable, element);\n",
              "          const docLink = document.createElement('div');\n",
              "          docLink.innerHTML = docLinkHtml;\n",
              "          element.appendChild(docLink);\n",
              "        }\n",
              "      </script>\n",
              "    </div>\n",
              "  </div>\n",
              "  "
            ]
          },
          "metadata": {},
          "execution_count": 61
        }
      ]
    },
    {
      "cell_type": "markdown",
      "source": [
        "Checking Outliers"
      ],
      "metadata": {
        "id": "PhgbYwJZ2aEo"
      }
    },
    {
      "cell_type": "code",
      "source": [
        "sns.boxplot(df['age'])"
      ],
      "metadata": {
        "colab": {
          "base_uri": "https://localhost:8080/",
          "height": 302
        },
        "id": "D28NDK4S2a9c",
        "outputId": "ea8157fc-e868-415e-9ae3-eaf629bde45b"
      },
      "execution_count": 62,
      "outputs": [
        {
          "output_type": "execute_result",
          "data": {
            "text/plain": [
              "<AxesSubplot:xlabel='age'>"
            ]
          },
          "metadata": {},
          "execution_count": 62
        },
        {
          "output_type": "display_data",
          "data": {
            "text/plain": [
              "<Figure size 432x288 with 1 Axes>"
            ],
            "image/png": "[encoded data removed]"
          },
          "metadata": {
            "needs_background": "light"
          }
        }
      ]
    },
    {
      "cell_type": "markdown",
      "source": [
        "### Function to find Outliers"
      ],
      "metadata": {
        "id": "KDqysrEY2gHq"
      }
    },
    {
      "cell_type": "code",
      "source": [
        "def detect_outliers(dataframe, column):\n",
        "    Q1 = dataframe[column].quantile(0.25)\n",
        "    Q3 = dataframe[column].quantile(0.75)\n",
        "    IQR = Q3 - Q1\n",
        "    lower_fence = Q1 - 1.5*(IQR)\n",
        "    upper_fence = Q3 + 1.5*(IQR)\n",
        "    total_outliers = dataframe.loc[(dataframe[column] < lower_fence) | (dataframe[column] > upper_fence)]\n",
        "    if len(total_outliers):\n",
        "      print(\"LowerFence: {}, UpperFence: {}\\n{} Outliers present in {}\".format(lower_fence, upper_fence, len(total_outliers), column))"
      ],
      "metadata": {
        "id": "cQoEjACQ2hPn"
      },
      "execution_count": 63,
      "outputs": []
    },
    {
      "cell_type": "code",
      "source": [
        "def clip_outliers(dataframe, column):\n",
        "    Q1 = dataframe[column].quantile(0.25)\n",
        "    Q3 = dataframe[column].quantile(0.75)\n",
        "    IQR = Q3 - Q1\n",
        "    lower_fence = Q1 - 1.5*(IQR)\n",
        "    upper_fence = Q3 + 1.5*(IQR)\n",
        "    dataframe[column] = dataframe[column].clip(lower_fence, upper_fence)"
      ],
      "metadata": {
        "id": "fxqV46NW2qHv"
      },
      "execution_count": 64,
      "outputs": []
    },
    {
      "cell_type": "code",
      "source": [
        "detect_outliers(df, \"age\")"
      ],
      "metadata": {
        "colab": {
          "base_uri": "https://localhost:8080/"
        },
        "id": "Alzn3guJ2tR0",
        "outputId": "bc66c364-1bc3-433d-cd02-1741ef0148bd"
      },
      "execution_count": 65,
      "outputs": [
        {
          "output_type": "stream",
          "name": "stdout",
          "text": [
            "LowerFence: 10.5, UpperFence: 70.5\n",
            "487 Outliers present in age\n"
          ]
        }
      ]
    },
    {
      "cell_type": "markdown",
      "source": [
        "Clip the outliers between upper and Lower fence values"
      ],
      "metadata": {
        "id": "0q-7jxnG2z4v"
      }
    },
    {
      "cell_type": "code",
      "source": [
        "clip_outliers(df, \"age\")\n"
      ],
      "metadata": {
        "id": "Ar4fiw8a207L"
      },
      "execution_count": 66,
      "outputs": []
    },
    {
      "cell_type": "markdown",
      "source": [
        "After Cleaning Outliers"
      ],
      "metadata": {
        "id": "DpuQhqDE26Sb"
      }
    },
    {
      "cell_type": "code",
      "source": [
        "sns.boxplot(df['age'])"
      ],
      "metadata": {
        "colab": {
          "base_uri": "https://localhost:8080/",
          "height": 302
        },
        "id": "Z0KpbIsa27CO",
        "outputId": "dd78cb72-b694-470b-8ce2-12094ff82a50"
      },
      "execution_count": 67,
      "outputs": [
        {
          "output_type": "execute_result",
          "data": {
            "text/plain": [
              "<AxesSubplot:xlabel='age'>"
            ]
          },
          "metadata": {},
          "execution_count": 67
        },
        {
          "output_type": "display_data",
          "data": {
            "text/plain": [
              "<Figure size 432x288 with 1 Axes>"
            ],
            "image/png": "[encoded data removed]"
          },
          "metadata": {
            "needs_background": "light"
          }
        }
      ]
    },
    {
      "cell_type": "markdown",
      "source": [
        "Checking Outliers"
      ],
      "metadata": {
        "id": "9P2-KScz2_G4"
      }
    },
    {
      "cell_type": "code",
      "source": [
        "sns.boxplot(df['dur'])"
      ],
      "metadata": {
        "colab": {
          "base_uri": "https://localhost:8080/",
          "height": 302
        },
        "id": "PwPoBCez3AYW",
        "outputId": "00abeb43-c801-41af-af49-7e0551e9cc3c"
      },
      "execution_count": 68,
      "outputs": [
        {
          "output_type": "execute_result",
          "data": {
            "text/plain": [
              "<AxesSubplot:xlabel='dur'>"
            ]
          },
          "metadata": {},
          "execution_count": 68
        },
        {
          "output_type": "display_data",
          "data": {
            "text/plain": [
              "<Figure size 432x288 with 1 Axes>"
            ],
            "image/png": "[encoded data removed]"
          },
          "metadata": {
            "needs_background": "light"
          }
        }
      ]
    },
    {
      "cell_type": "code",
      "source": [
        "detect_outliers(df, 'dur')"
      ],
      "metadata": {
        "colab": {
          "base_uri": "https://localhost:8080/"
        },
        "id": "Bq2EAM3p3FJf",
        "outputId": "73c6c393-42c6-4d7a-e862-de78f0a3c808"
      },
      "execution_count": 69,
      "outputs": [
        {
          "output_type": "stream",
          "name": "stdout",
          "text": [
            "LowerFence: -221.0, UpperFence: 643.0\n",
            "3235 Outliers present in dur\n"
          ]
        }
      ]
    },
    {
      "cell_type": "code",
      "source": [
        "clip_outliers(df, \"dur\")"
      ],
      "metadata": {
        "id": "iCmlH6pD3UC3"
      },
      "execution_count": 70,
      "outputs": []
    },
    {
      "cell_type": "code",
      "source": [
        "sns.boxplot(df[\"dur\"])"
      ],
      "metadata": {
        "colab": {
          "base_uri": "https://localhost:8080/",
          "height": 302
        },
        "id": "2BNEt76U3Wu5",
        "outputId": "0bf9745a-7c82-47dc-c06a-cf2207286b1c"
      },
      "execution_count": 71,
      "outputs": [
        {
          "output_type": "execute_result",
          "data": {
            "text/plain": [
              "<AxesSubplot:xlabel='dur'>"
            ]
          },
          "metadata": {},
          "execution_count": 71
        },
        {
          "output_type": "display_data",
          "data": {
            "text/plain": [
              "<Figure size 432x288 with 1 Axes>"
            ],
            "image/png": "[encoded data removed]"
          },
          "metadata": {
            "needs_background": "light"
          }
        }
      ]
    },
    {
      "cell_type": "code",
      "source": [
        "df.dur.describe()"
      ],
      "metadata": {
        "colab": {
          "base_uri": "https://localhost:8080/"
        },
        "id": "PAwgIH-p3ZfV",
        "outputId": "ace3b53e-5da2-45e0-dd7e-7d443d59c90b"
      },
      "execution_count": 72,
      "outputs": [
        {
          "output_type": "execute_result",
          "data": {
            "text/plain": [
              "count    45205.00000\n",
              "mean       234.95620\n",
              "std        176.75476\n",
              "min          0.00000\n",
              "25%        103.00000\n",
              "50%        180.00000\n",
              "75%        319.00000\n",
              "max        643.00000\n",
              "Name: dur, dtype: float64"
            ]
          },
          "metadata": {},
          "execution_count": 72
        }
      ]
    },
    {
      "cell_type": "markdown",
      "source": [
        "Checking Outliers"
      ],
      "metadata": {
        "id": "5ESJpgMV3dQ6"
      }
    },
    {
      "cell_type": "code",
      "source": [
        "sns.boxplot(df['num_calls'])"
      ],
      "metadata": {
        "colab": {
          "base_uri": "https://localhost:8080/",
          "height": 302
        },
        "id": "jKqe_u523alE",
        "outputId": "a01db2f9-66e7-4f4b-9f9e-11b3dd949772"
      },
      "execution_count": 73,
      "outputs": [
        {
          "output_type": "execute_result",
          "data": {
            "text/plain": [
              "<AxesSubplot:xlabel='num_calls'>"
            ]
          },
          "metadata": {},
          "execution_count": 73
        },
        {
          "output_type": "display_data",
          "data": {
            "text/plain": [
              "<Figure size 432x288 with 1 Axes>"
            ],
            "image/png": "[encoded data removed]"
          },
          "metadata": {
            "needs_background": "light"
          }
        }
      ]
    },
    {
      "cell_type": "code",
      "source": [
        "detect_outliers(df, \"num_calls\")"
      ],
      "metadata": {
        "colab": {
          "base_uri": "https://localhost:8080/"
        },
        "id": "QqlOLnj03hnp",
        "outputId": "49390bbf-559c-4dff-9735-575b88f2e930"
      },
      "execution_count": 74,
      "outputs": [
        {
          "output_type": "stream",
          "name": "stdout",
          "text": [
            "LowerFence: -2.0, UpperFence: 6.0\n",
            "3064 Outliers present in num_calls\n"
          ]
        }
      ]
    },
    {
      "cell_type": "code",
      "source": [
        "clip_outliers(df, \"num_calls\")"
      ],
      "metadata": {
        "id": "psz_RoHB3kKe"
      },
      "execution_count": 75,
      "outputs": []
    },
    {
      "cell_type": "markdown",
      "source": [
        "After Cleaning Outliers"
      ],
      "metadata": {
        "id": "xknbxVhh3pLF"
      }
    },
    {
      "cell_type": "code",
      "source": [
        "sns.boxplot(df['num_calls'])\n",
        "     \n"
      ],
      "metadata": {
        "colab": {
          "base_uri": "https://localhost:8080/",
          "height": 302
        },
        "id": "eLfZKxF43m-O",
        "outputId": "09258941-abe5-4706-b2b0-817d7e0d4a65"
      },
      "execution_count": 76,
      "outputs": [
        {
          "output_type": "execute_result",
          "data": {
            "text/plain": [
              "<AxesSubplot:xlabel='num_calls'>"
            ]
          },
          "metadata": {},
          "execution_count": 76
        },
        {
          "output_type": "display_data",
          "data": {
            "text/plain": [
              "<Figure size 432x288 with 1 Axes>"
            ],
            "image/png": "[encoded data removed]"
          },
          "metadata": {
            "needs_background": "light"
          }
        }
      ]
    },
    {
      "cell_type": "code",
      "source": [
        "df.day.describe()"
      ],
      "metadata": {
        "colab": {
          "base_uri": "https://localhost:8080/"
        },
        "id": "wObeWWQS3xUE",
        "outputId": "f9154f60-da3a-4e25-ea13-5a81b6f99f97"
      },
      "execution_count": 77,
      "outputs": [
        {
          "output_type": "execute_result",
          "data": {
            "text/plain": [
              "count    45205.00000\n",
              "mean        15.80688\n",
              "std          8.32234\n",
              "min          1.00000\n",
              "25%          8.00000\n",
              "50%         16.00000\n",
              "75%         21.00000\n",
              "max         31.00000\n",
              "Name: day, dtype: float64"
            ]
          },
          "metadata": {},
          "execution_count": 77
        }
      ]
    },
    {
      "cell_type": "markdown",
      "source": [
        "Cleaning Categorical Columns"
      ],
      "metadata": {
        "id": "bARAcany377h"
      }
    },
    {
      "cell_type": "code",
      "source": [
        "for feature in df.select_dtypes(include=\"object\").columns:\n",
        "  if df[feature].nunique() < 25:\n",
        "    print(\"\\033[1m{:<15}\\033[0m has {} unique values: {}\".format(feature, df[feature].nunique(), list(df[feature].unique())))"
      ],
      "metadata": {
        "colab": {
          "base_uri": "https://localhost:8080/"
        },
        "id": "P1MOBURk381N",
        "outputId": "66305dd6-e7f0-4e7a-f862-cdedd63ae2b8"
      },
      "execution_count": 78,
      "outputs": [
        {
          "output_type": "stream",
          "name": "stdout",
          "text": [
            "\u001b[1mjob            \u001b[0m has 12 unique values: ['management', 'technician', 'entrepreneur', 'blue-collar', 'unknown', 'retired', 'admin.', 'services', 'self-employed', 'unemployed', 'housemaid', 'student']\n",
            "\u001b[1mmarital        \u001b[0m has 3 unique values: ['married', 'single', 'divorced']\n",
            "\u001b[1meducation_qual \u001b[0m has 4 unique values: ['tertiary', 'secondary', 'unknown', 'primary']\n",
            "\u001b[1mcall_type      \u001b[0m has 3 unique values: ['unknown', 'cellular', 'telephone']\n",
            "\u001b[1mmon            \u001b[0m has 12 unique values: ['may', 'jun', 'jul', 'aug', 'oct', 'nov', 'dec', 'jan', 'feb', 'mar', 'apr', 'sep']\n",
            "\u001b[1mprev_outcome   \u001b[0m has 4 unique values: ['unknown', 'failure', 'other', 'success']\n",
            "\u001b[1my              \u001b[0m has 2 unique values: ['no', 'yes']\n"
          ]
        }
      ]
    },
    {
      "cell_type": "code",
      "source": [
        "df['job'].replace(['admin.'],'admin',inplace=True)"
      ],
      "metadata": {
        "id": "dGaRfGAD4Aqz"
      },
      "execution_count": 79,
      "outputs": []
    },
    {
      "cell_type": "markdown",
      "source": [
        "# Exploratory Data Analysis"
      ],
      "metadata": {
        "id": "ThnN3aNB4F2J"
      }
    },
    {
      "cell_type": "markdown",
      "source": [
        "*EDA for categorical Columns*"
      ],
      "metadata": {
        "id": "aSspHnvc4JZX"
      }
    },
    {
      "cell_type": "markdown",
      "source": [
        "Checking Relationship Between Job feature and Y Target"
      ],
      "metadata": {
        "id": "dOKvbe9L4ekj"
      }
    },
    {
      "cell_type": "code",
      "source": [
        "def feature_vs_target(dataframe, feature, target):\n",
        "  QUERY = target + \"== 'yes'\"\n",
        "  df_yes = dataframe.query(QUERY)\n",
        "  plt.figure(figsize=(15,5))\n",
        "  plt.subplot(121)\n",
        "  sns.countplot(x=feature, hue=target, data=dataframe, order=df[feature].value_counts().index)\n",
        "  plt.title(feature + \" vs \" + target)\n",
        "  plt.xticks(rotation=60)\n",
        "  plt.subplot(122)\n",
        "  # sns.heatmap(pd.crosstab(df[feature],df[target]))\n",
        "  sns.countplot(x=feature, data=df_yes, order=df_yes[feature].value_counts().index)\n",
        "  plt.title(feature + \" vs (Target == Yes)\")\n",
        "  plt.xticks(rotation=60)\n",
        "  plt.tight_layout()\n",
        "  plt.show()"
      ],
      "metadata": {
        "id": "y6c5U4vf4HUW"
      },
      "execution_count": 80,
      "outputs": []
    },
    {
      "cell_type": "code",
      "source": [
        "feature_vs_target(df, \"job\", \"y\")"
      ],
      "metadata": {
        "colab": {
          "base_uri": "https://localhost:8080/",
          "height": 351
        },
        "id": "8Zrkngqj4nJh",
        "outputId": "162cbd02-66ca-4ca1-b4d7-45e03ed0139d"
      },
      "execution_count": 81,
      "outputs": [
        {
          "output_type": "display_data",
          "data": {
            "text/plain": [
              "<Figure size 1080x360 with 2 Axes>"
            ],
            "image/png": "[encoded data removed]"
          },
          "metadata": {
            "needs_background": "light"
          }
        }
      ]
    },
    {
      "cell_type": "code",
      "source": [
        "# df.job = df.job.map({'unknown': 1, 'housemaid': 2, 'entrepreneur': 3, 'self-employed': 4, 'unemployed': 5, 'student': 6, 'services': 7, 'retired': 8, 'admin': 9, 'blue-collar': 10, 'technician': 11, 'management': 12 })\n",
        "# df[\"job\"].unique()"
      ],
      "metadata": {
        "id": "DyZgSrbX4sIh"
      },
      "execution_count": 82,
      "outputs": []
    },
    {
      "cell_type": "markdown",
      "source": [
        "\n",
        "\n",
        "*   The most targeted customers: Blue-collar job, but comparing with conversion rate, we end up in losing lot of money.(Better to avoid targetting Blue-collar customers a lot)\n",
        "* Convertion rate is maximum: Management.\n",
        "\n"
      ],
      "metadata": {
        "id": "Ca-jNiFU4yc7"
      }
    },
    {
      "cell_type": "markdown",
      "source": [
        "Checking Relationship Between marital feature and y Target"
      ],
      "metadata": {
        "id": "Lxbnq8jR4rLn"
      }
    },
    {
      "cell_type": "code",
      "source": [
        "feature_vs_target(df, \"marital\", \"y\")"
      ],
      "metadata": {
        "colab": {
          "base_uri": "https://localhost:8080/",
          "height": 351
        },
        "id": "Fvfvw_2W5JGZ",
        "outputId": "eb744934-433a-4f56-e441-b771f018c5ee"
      },
      "execution_count": 83,
      "outputs": [
        {
          "output_type": "display_data",
          "data": {
            "text/plain": [
              "<Figure size 1080x360 with 2 Axes>"
            ],
            "image/png": "[encoded data removed]"
          },
          "metadata": {
            "needs_background": "light"
          }
        }
      ]
    },
    {
      "cell_type": "markdown",
      "source": [
        "\n",
        "\n",
        "*   Married people are mostly opting for the insurance.\n",
        "*   Divorced people don't care much on their health.\n",
        "\n"
      ],
      "metadata": {
        "id": "kR8T5_rL5VCW"
      }
    },
    {
      "cell_type": "markdown",
      "source": [
        "Checking Relationship in between Education_qual and y Target"
      ],
      "metadata": {
        "id": "3H0LVrOI5mDN"
      }
    },
    {
      "cell_type": "code",
      "source": [
        "feature_vs_target(df, \"education_qual\", \"y\")"
      ],
      "metadata": {
        "colab": {
          "base_uri": "https://localhost:8080/",
          "height": 351
        },
        "id": "fHAJJObY5e2B",
        "outputId": "6b0b0210-3f1b-461b-ffba-80e4cd8f7c3f"
      },
      "execution_count": 84,
      "outputs": [
        {
          "output_type": "display_data",
          "data": {
            "text/plain": [
              "<Figure size 1080x360 with 2 Axes>"
            ],
            "image/png": "[encoded data removed]"
          },
          "metadata": {
            "needs_background": "light"
          }
        }
      ]
    },
    {
      "cell_type": "markdown",
      "source": [
        "\n",
        "\n",
        "*   People with higher education(Secondary/Tertiary --> Collage/Masters) are option for insurance plans.\n",
        "*   We need to concentrate on spreading awareness about health insurance to people with less education.\n",
        "\n",
        "\n"
      ],
      "metadata": {
        "id": "maJ18py25us4"
      }
    },
    {
      "cell_type": "markdown",
      "source": [
        "Checking Relationship in between the Call_type feature and y target"
      ],
      "metadata": {
        "id": "On9d5MkL508q"
      }
    },
    {
      "cell_type": "code",
      "source": [
        "feature_vs_target(df, \"call_type\", \"y\")"
      ],
      "metadata": {
        "colab": {
          "base_uri": "https://localhost:8080/",
          "height": 351
        },
        "id": "E94dWesg538d",
        "outputId": "913371ba-93f3-4608-86ae-c7fe6126a283"
      },
      "execution_count": 85,
      "outputs": [
        {
          "output_type": "display_data",
          "data": {
            "text/plain": [
              "<Figure size 1080x360 with 2 Axes>"
            ],
            "image/png": "[encoded data removed]"
          },
          "metadata": {
            "needs_background": "light"
          }
        }
      ]
    },
    {
      "cell_type": "markdown",
      "source": [
        "\n",
        "\n",
        "*   Cellular type conversation is contributing a lot towards customers opting for insurance plan.\n",
        "\n"
      ],
      "metadata": {
        "id": "jNPG0I055_k3"
      }
    },
    {
      "cell_type": "markdown",
      "source": [
        "Checking Relationship between the month feature and y target"
      ],
      "metadata": {
        "id": "4rMRD59Z6FZE"
      }
    },
    {
      "cell_type": "code",
      "source": [
        "feature_vs_target(df, \"mon\", \"y\")\n",
        "     \n"
      ],
      "metadata": {
        "colab": {
          "base_uri": "https://localhost:8080/",
          "height": 351
        },
        "id": "I2a3VDaH6CeB",
        "outputId": "abc0500f-6bee-4b7d-c1aa-b1bea4be1fa5"
      },
      "execution_count": 86,
      "outputs": [
        {
          "output_type": "display_data",
          "data": {
            "text/plain": [
              "<Figure size 1080x360 with 2 Axes>"
            ],
            "image/png": "[encoded data removed]"
          },
          "metadata": {
            "needs_background": "light"
          }
        }
      ]
    },
    {
      "cell_type": "markdown",
      "source": [
        "\n",
        "\n",
        "*  People opting for Insurance plans when targeted during start of new financial year/When they get their appraisal cycle result.\n",
        "\n"
      ],
      "metadata": {
        "id": "KJYYzZus6ZHc"
      }
    },
    {
      "cell_type": "markdown",
      "source": [
        "Checking the Relationship between prev_outcome feature and y target\n",
        "\n"
      ],
      "metadata": {
        "id": "GpBpii0c6dbH"
      }
    },
    {
      "cell_type": "code",
      "source": [
        "feature_vs_target(df, \"prev_outcome\", \"y\")"
      ],
      "metadata": {
        "colab": {
          "base_uri": "https://localhost:8080/",
          "height": 351
        },
        "id": "49WnNtLb6lc7",
        "outputId": "45c7b439-757b-498d-c2dd-40ed7a18f95c"
      },
      "execution_count": 87,
      "outputs": [
        {
          "output_type": "display_data",
          "data": {
            "text/plain": [
              "<Figure size 1080x360 with 2 Axes>"
            ],
            "image/png": "[encoded data removed]"
          },
          "metadata": {
            "needs_background": "light"
          }
        }
      ]
    },
    {
      "cell_type": "markdown",
      "source": [
        "\n",
        "\n",
        "* The relationship between prev_outcome and target is very less. Lets drop the feature.\n",
        "\n"
      ],
      "metadata": {
        "id": "Hi5B3vLD6qDk"
      }
    },
    {
      "cell_type": "markdown",
      "source": [
        "*EDA For Numarical Columns*"
      ],
      "metadata": {
        "id": "qA-8xGks6p7C"
      }
    },
    {
      "cell_type": "code",
      "source": [
        "def feature_vs_target_numeric(dataframe, feature, target):\n",
        "  sns.set_theme(style=\"darkgrid\",palette=\"bright\")\n",
        "  plt.figure(figsize=(20, 10))\n",
        "  plt.subplot(211)\n",
        "  sns.distplot(dataframe[feature])\n",
        "  plt.title(feature + \" vs \" + target)\n",
        "  plt.xticks(rotation=60)\n",
        "  plt.subplot(212)\n",
        "  sns.countplot(x=feature, hue=target, data=dataframe)\n",
        "  plt.title(feature + \" vs \" + target)\n",
        "  plt.tight_layout()\n",
        "  plt.show()"
      ],
      "metadata": {
        "id": "hxoNEXOy600Z"
      },
      "execution_count": 88,
      "outputs": []
    },
    {
      "cell_type": "markdown",
      "source": [
        "Checking Relationship Between age feature and y target"
      ],
      "metadata": {
        "id": "Lwnu0Kdg684H"
      }
    },
    {
      "cell_type": "code",
      "source": [
        "feature_vs_target_numeric(df, \"age\", \"y\")"
      ],
      "metadata": {
        "colab": {
          "base_uri": "https://localhost:8080/",
          "height": 522
        },
        "id": "E9iZPRZO69r4",
        "outputId": "b2e0c9ff-27e3-4b8a-ba49-cbb7b328584b"
      },
      "execution_count": 89,
      "outputs": [
        {
          "output_type": "display_data",
          "data": {
            "text/plain": [
              "<Figure size 1440x720 with 2 Axes>"
            ],
            "image/png": "[encoded data removed]"
          },
          "metadata": {}
        }
      ]
    },
    {
      "cell_type": "markdown",
      "source": [
        "\n",
        "\n",
        "*   People between 25 and 60 age are opting for insurance.\n",
        "*   Senior citizens are not opting for insurance.\n",
        "*   Also people below 18 years are not opting for insurance.\n",
        "\n",
        "\n",
        "\n"
      ],
      "metadata": {
        "id": "1sXR68oR7Kxt"
      }
    },
    {
      "cell_type": "markdown",
      "source": [
        "Checking Relationship in between day feature and y target"
      ],
      "metadata": {
        "id": "FakfVU547fS-"
      }
    },
    {
      "cell_type": "code",
      "source": [
        "feature_vs_target_numeric(df, \"day\", \"y\")"
      ],
      "metadata": {
        "colab": {
          "base_uri": "https://localhost:8080/",
          "height": 521
        },
        "id": "2e_U3y427c6C",
        "outputId": "bd73c2b0-dffd-4a3a-fb07-56269d4ea722"
      },
      "execution_count": 90,
      "outputs": [
        {
          "output_type": "display_data",
          "data": {
            "text/plain": [
              "<Figure size 1440x720 with 2 Axes>"
            ],
            "image/png": "[encoded data removed]"
          },
          "metadata": {}
        }
      ]
    },
    {
      "cell_type": "markdown",
      "source": [
        "Checking Relationship between Duration Feature and Y Target"
      ],
      "metadata": {
        "id": "BgNtAQTf7nJS"
      }
    },
    {
      "cell_type": "code",
      "source": [
        "sns.set_theme(style=\"darkgrid\",palette=\"tab10\")\n",
        "feature_vs_target_numeric(df, \"dur\", \"y\")"
      ],
      "metadata": {
        "colab": {
          "base_uri": "https://localhost:8080/",
          "height": 521
        },
        "id": "nLsm2Tva7oBU",
        "outputId": "1ccf12fc-6388-4b5f-9de2-8c677524a8aa"
      },
      "execution_count": 91,
      "outputs": [
        {
          "output_type": "display_data",
          "data": {
            "text/plain": [
              "<Figure size 1440x720 with 2 Axes>"
            ],
            "image/png": "[encoded data removed]"
          },
          "metadata": {}
        }
      ]
    },
    {
      "cell_type": "markdown",
      "source": [
        "Checking Relationship in between num_calls feature and y target\n",
        "\n"
      ],
      "metadata": {
        "id": "32hcFtqI73St"
      }
    },
    {
      "cell_type": "code",
      "source": [
        "feature_vs_target_numeric(df, \"num_calls\", \"y\")"
      ],
      "metadata": {
        "colab": {
          "base_uri": "https://localhost:8080/",
          "height": 521
        },
        "id": "I68iO550738q",
        "outputId": "a1dff0fc-32e2-499f-d2b9-21dc7e6763de"
      },
      "execution_count": 92,
      "outputs": [
        {
          "output_type": "display_data",
          "data": {
            "text/plain": [
              "<Figure size 1440x720 with 2 Axes>"
            ],
            "image/png": "[encoded data removed]"
          },
          "metadata": {}
        }
      ]
    },
    {
      "cell_type": "markdown",
      "source": [
        "\n",
        "\n",
        "*  When contacted over phone, mostly customers opting for insurance in maximum 3 attempts.\n",
        "*   As cost effective approach, avoid reaching customer over phone after 3 attempts.\n",
        "\n"
      ],
      "metadata": {
        "id": "TFMU1F4W8BCR"
      }
    },
    {
      "cell_type": "markdown",
      "source": [
        "Checking datatypes"
      ],
      "metadata": {
        "id": "XL6D5JRp8OE2"
      }
    },
    {
      "cell_type": "code",
      "source": [
        "df.dtypes"
      ],
      "metadata": {
        "colab": {
          "base_uri": "https://localhost:8080/"
        },
        "id": "3mwy4A548PAH",
        "outputId": "36879d90-a218-497b-8a63-da571cce8ac2"
      },
      "execution_count": 93,
      "outputs": [
        {
          "output_type": "execute_result",
          "data": {
            "text/plain": [
              "age               float64\n",
              "job                object\n",
              "marital            object\n",
              "education_qual     object\n",
              "call_type          object\n",
              "day                 int64\n",
              "mon                object\n",
              "dur               float64\n",
              "num_calls         float64\n",
              "prev_outcome       object\n",
              "y                  object\n",
              "dtype: object"
            ]
          },
          "metadata": {},
          "execution_count": 93
        }
      ]
    },
    {
      "cell_type": "markdown",
      "source": [
        "Change to proper datatype"
      ],
      "metadata": {
        "id": "ZK51Nmln8Uoh"
      }
    },
    {
      "cell_type": "code",
      "source": [
        "df['age'] = df['age'].astype(int)\n",
        "df['dur'] = df['dur'].astype(int)\n",
        "df['num_calls'] = df['num_calls'].astype(int)"
      ],
      "metadata": {
        "id": "Ixr4M6c_8Sek"
      },
      "execution_count": 94,
      "outputs": []
    },
    {
      "cell_type": "markdown",
      "source": [
        "Label Encoding for Ordinal Categories"
      ],
      "metadata": {
        "id": "wX2p31Lz8Y8h"
      }
    },
    {
      "cell_type": "code",
      "source": [
        "df.job = df.job.map({'unknown': 1, 'housemaid': 2, 'entrepreneur': 3, 'self-employed': 4, 'unemployed': 5, 'student': 6, 'services': 7, 'retired': 8, 'admin': 9, 'blue-collar': 10, 'technician': 11, 'management': 12 })\n",
        "df.marital = df.marital.map({'divorced':1, 'single':2, 'married':3})\n",
        "df.mon = df.mon.map({'dec': 1, 'jan': 2, 'mar' : 3, 'sep' : 4, 'oct' : 5, 'nov' : 6, 'feb' : 7, 'jun' : 8, 'apr' : 9, 'jul' : 10, 'aug' : 11, 'may' :12})\n",
        "df.y = df.y.map({'yes':1, 'no':0})\n",
        "\n",
        "# df.education_qual = df.education_qual.map({'unknown':1, 'primary':2, 'tertiary':3, 'secondary':4})\n",
        "# df.call_type = df.call_type.map({'telephone':1, 'unknown':2, 'cellular':3})\n",
        "# df.prev_outcome = df.prev_outcome.map({'unknown':1, 'failure':2, 'other':3, 'success':4})"
      ],
      "metadata": {
        "id": "joG8KLFU8bDa"
      },
      "execution_count": 95,
      "outputs": []
    },
    {
      "cell_type": "markdown",
      "source": [
        "One-Hot Encoding for Nominal Categories"
      ],
      "metadata": {
        "id": "EXXtWm1k8tpT"
      }
    },
    {
      "cell_type": "code",
      "source": [
        "df=pd.get_dummies(df,columns=[\"call_type\", \"education_qual\",\"prev_outcome\"])\n",
        "df.head()"
      ],
      "metadata": {
        "colab": {
          "base_uri": "https://localhost:8080/",
          "height": 270
        },
        "id": "B7r8lJUe8uaD",
        "outputId": "a2cb8ecf-2293-4be1-8e16-4e75d7f5ed2c"
      },
      "execution_count": 96,
      "outputs": [
        {
          "output_type": "execute_result",
          "data": {
            "text/plain": [
              "   age  job  marital  day  mon  dur  num_calls  y  call_type_cellular  \\\n",
              "0   58   12        3    5   12  261          1  0                   0   \n",
              "1   44   11        2    5   12  151          1  0                   0   \n",
              "2   33    3        3    5   12   76          1  0                   0   \n",
              "3   47   10        3    5   12   92          1  0                   0   \n",
              "4   33    1        2    5   12  198          1  0                   0   \n",
              "\n",
              "   call_type_telephone  call_type_unknown  education_qual_primary  \\\n",
              "0                    0                  1                       0   \n",
              "1                    0                  1                       0   \n",
              "2                    0                  1                       0   \n",
              "3                    0                  1                       0   \n",
              "4                    0                  1                       0   \n",
              "\n",
              "   education_qual_secondary  education_qual_tertiary  education_qual_unknown  \\\n",
              "0                         0                        1                       0   \n",
              "1                         1                        0                       0   \n",
              "2                         1                        0                       0   \n",
              "3                         0                        0                       1   \n",
              "4                         0                        0                       1   \n",
              "\n",
              "   prev_outcome_failure  prev_outcome_other  prev_outcome_success  \\\n",
              "0                     0                   0                     0   \n",
              "1                     0                   0                     0   \n",
              "2                     0                   0                     0   \n",
              "3                     0                   0                     0   \n",
              "4                     0                   0                     0   \n",
              "\n",
              "   prev_outcome_unknown  \n",
              "0                     1  \n",
              "1                     1  \n",
              "2                     1  \n",
              "3                     1  \n",
              "4                     1  "
            ],
            "text/html": [
              "\n",
              "  <div id=\"df-08d7ba6b-90a1-48d3-b398-abbd5cc673cf\">\n",
              "    <div class=\"colab-df-container\">\n",
              "      <div>\n",
              "<style scoped>\n",
              "    .dataframe tbody tr th:only-of-type {\n",
              "        vertical-align: middle;\n",
              "    }\n",
              "\n",
              "    .dataframe tbody tr th {\n",
              "        vertical-align: top;\n",
              "    }\n",
              "\n",
              "    .dataframe thead th {\n",
              "        text-align: right;\n",
              "    }\n",
              "</style>\n",
              "<table border=\"1\" class=\"dataframe\">\n",
              "  <thead>\n",
              "    <tr style=\"text-align: right;\">\n",
              "      <th></th>\n",
              "      <th>age</th>\n",
              "      <th>job</th>\n",
              "      <th>marital</th>\n",
              "      <th>day</th>\n",
              "      <th>mon</th>\n",
              "      <th>dur</th>\n",
              "      <th>num_calls</th>\n",
              "      <th>y</th>\n",
              "      <th>call_type_cellular</th>\n",
              "      <th>call_type_telephone</th>\n",
              "      <th>call_type_unknown</th>\n",
              "      <th>education_qual_primary</th>\n",
              "      <th>education_qual_secondary</th>\n",
              "      <th>education_qual_tertiary</th>\n",
              "      <th>education_qual_unknown</th>\n",
              "      <th>prev_outcome_failure</th>\n",
              "      <th>prev_outcome_other</th>\n",
              "      <th>prev_outcome_success</th>\n",
              "      <th>prev_outcome_unknown</th>\n",
              "    </tr>\n",
              "  </thead>\n",
              "  <tbody>\n",
              "    <tr>\n",
              "      <th>0</th>\n",
              "      <td>58</td>\n",
              "      <td>12</td>\n",
              "      <td>3</td>\n",
              "      <td>5</td>\n",
              "      <td>12</td>\n",
              "      <td>261</td>\n",
              "      <td>1</td>\n",
              "      <td>0</td>\n",
              "      <td>0</td>\n",
              "      <td>0</td>\n",
              "      <td>1</td>\n",
              "      <td>0</td>\n",
              "      <td>0</td>\n",
              "      <td>1</td>\n",
              "      <td>0</td>\n",
              "      <td>0</td>\n",
              "      <td>0</td>\n",
              "      <td>0</td>\n",
              "      <td>1</td>\n",
              "    </tr>\n",
              "    <tr>\n",
              "      <th>1</th>\n",
              "      <td>44</td>\n",
              "      <td>11</td>\n",
              "      <td>2</td>\n",
              "      <td>5</td>\n",
              "      <td>12</td>\n",
              "      <td>151</td>\n",
              "      <td>1</td>\n",
              "      <td>0</td>\n",
              "      <td>0</td>\n",
              "      <td>0</td>\n",
              "      <td>1</td>\n",
              "      <td>0</td>\n",
              "      <td>1</td>\n",
              "      <td>0</td>\n",
              "      <td>0</td>\n",
              "      <td>0</td>\n",
              "      <td>0</td>\n",
              "      <td>0</td>\n",
              "      <td>1</td>\n",
              "    </tr>\n",
              "    <tr>\n",
              "      <th>2</th>\n",
              "      <td>33</td>\n",
              "      <td>3</td>\n",
              "      <td>3</td>\n",
              "      <td>5</td>\n",
              "      <td>12</td>\n",
              "      <td>76</td>\n",
              "      <td>1</td>\n",
              "      <td>0</td>\n",
              "      <td>0</td>\n",
              "      <td>0</td>\n",
              "      <td>1</td>\n",
              "      <td>0</td>\n",
              "      <td>1</td>\n",
              "      <td>0</td>\n",
              "      <td>0</td>\n",
              "      <td>0</td>\n",
              "      <td>0</td>\n",
              "      <td>0</td>\n",
              "      <td>1</td>\n",
              "    </tr>\n",
              "    <tr>\n",
              "      <th>3</th>\n",
              "      <td>47</td>\n",
              "      <td>10</td>\n",
              "      <td>3</td>\n",
              "      <td>5</td>\n",
              "      <td>12</td>\n",
              "      <td>92</td>\n",
              "      <td>1</td>\n",
              "      <td>0</td>\n",
              "      <td>0</td>\n",
              "      <td>0</td>\n",
              "      <td>1</td>\n",
              "      <td>0</td>\n",
              "      <td>0</td>\n",
              "      <td>0</td>\n",
              "      <td>1</td>\n",
              "      <td>0</td>\n",
              "      <td>0</td>\n",
              "      <td>0</td>\n",
              "      <td>1</td>\n",
              "    </tr>\n",
              "    <tr>\n",
              "      <th>4</th>\n",
              "      <td>33</td>\n",
              "      <td>1</td>\n",
              "      <td>2</td>\n",
              "      <td>5</td>\n",
              "      <td>12</td>\n",
              "      <td>198</td>\n",
              "      <td>1</td>\n",
              "      <td>0</td>\n",
              "      <td>0</td>\n",
              "      <td>0</td>\n",
              "      <td>1</td>\n",
              "      <td>0</td>\n",
              "      <td>0</td>\n",
              "      <td>0</td>\n",
              "      <td>1</td>\n",
              "      <td>0</td>\n",
              "      <td>0</td>\n",
              "      <td>0</td>\n",
              "      <td>1</td>\n",
              "    </tr>\n",
              "  </tbody>\n",
              "</table>\n",
              "</div>\n",
              "      <button class=\"colab-df-convert\" onclick=\"convertToInteractive('df-08d7ba6b-90a1-48d3-b398-abbd5cc673cf')\"\n",
              "              title=\"Convert this dataframe to an interactive table.\"\n",
              "              style=\"display:none;\">\n",
              "        \n",
              "  <svg xmlns=\"http://www.w3.org/2000/svg\" height=\"24px\"viewBox=\"0 0 24 24\"\n",
              "       width=\"24px\">\n",
              "    <path d=\"M0 0h24v24H0V0z\" fill=\"none\"/>\n",
              "    <path d=\"M18.56 5.44l.94 2.06.94-2.06 2.06-.94-2.06-.94-.94-2.06-.94 2.06-2.06.94zm-11 1L8.5 8.5l.94-2.06 2.06-.94-2.06-.94L8.5 2.5l-.94 2.06-2.06.94zm10 10l.94 2.06.94-2.06 2.06-.94-2.06-.94-.94-2.06-.94 2.06-2.06.94z\"/><path d=\"M17.41 7.96l-1.37-1.37c-.4-.4-.92-.59-1.43-.59-.52 0-1.04.2-1.43.59L10.3 9.45l-7.72 7.72c-.78.78-.78 2.05 0 2.83L4 21.41c.39.39.9.59 1.41.59.51 0 1.02-.2 1.41-.59l7.78-7.78 2.81-2.81c.8-.78.8-2.07 0-2.86zM5.41 20L4 18.59l7.72-7.72 1.47 1.35L5.41 20z\"/>\n",
              "  </svg>\n",
              "      </button>\n",
              "      \n",
              "  <style>\n",
              "    .colab-df-container {\n",
              "      display:flex;\n",
              "      flex-wrap:wrap;\n",
              "      gap: 12px;\n",
              "    }\n",
              "\n",
              "    .colab-df-convert {\n",
              "      background-color: #E8F0FE;\n",
              "      border: none;\n",
              "      border-radius: 50%;\n",
              "      cursor: pointer;\n",
              "      display: none;\n",
              "      fill: #1967D2;\n",
              "      height: 32px;\n",
              "      padding: 0 0 0 0;\n",
              "      width: 32px;\n",
              "    }\n",
              "\n",
              "    .colab-df-convert:hover {\n",
              "      background-color: #E2EBFA;\n",
              "      box-shadow: 0px 1px 2px rgba(60, 64, 67, 0.3), 0px 1px 3px 1px rgba(60, 64, 67, 0.15);\n",
              "      fill: #174EA6;\n",
              "    }\n",
              "\n",
              "    [theme=dark] .colab-df-convert {\n",
              "      background-color: #3B4455;\n",
              "      fill: #D2E3FC;\n",
              "    }\n",
              "\n",
              "    [theme=dark] .colab-df-convert:hover {\n",
              "      background-color: #434B5C;\n",
              "      box-shadow: 0px 1px 3px 1px rgba(0, 0, 0, 0.15);\n",
              "      filter: drop-shadow(0px 1px 2px rgba(0, 0, 0, 0.3));\n",
              "      fill: #FFFFFF;\n",
              "    }\n",
              "  </style>\n",
              "\n",
              "      <script>\n",
              "        const buttonEl =\n",
              "          document.querySelector('#df-08d7ba6b-90a1-48d3-b398-abbd5cc673cf button.colab-df-convert');\n",
              "        buttonEl.style.display =\n",
              "          google.colab.kernel.accessAllowed ? 'block' : 'none';\n",
              "\n",
              "        async function convertToInteractive(key) {\n",
              "          const element = document.querySelector('#df-08d7ba6b-90a1-48d3-b398-abbd5cc673cf');\n",
              "          const dataTable =\n",
              "            await google.colab.kernel.invokeFunction('convertToInteractive',\n",
              "                                                     [key], {});\n",
              "          if (!dataTable) return;\n",
              "\n",
              "          const docLinkHtml = 'Like what you see? Visit the ' +\n",
              "            '<a target=\"_blank\" href=https://colab.research.google.com/notebooks/data_table.ipynb>data table notebook</a>'\n",
              "            + ' to learn more about interactive tables.';\n",
              "          element.innerHTML = '';\n",
              "          dataTable['output_type'] = 'display_data';\n",
              "          await google.colab.output.renderOutput(dataTable, element);\n",
              "          const docLink = document.createElement('div');\n",
              "          docLink.innerHTML = docLinkHtml;\n",
              "          element.appendChild(docLink);\n",
              "        }\n",
              "      </script>\n",
              "    </div>\n",
              "  </div>\n",
              "  "
            ]
          },
          "metadata": {},
          "execution_count": 96
        }
      ]
    },
    {
      "cell_type": "markdown",
      "source": [
        "Final dataset after Encoding"
      ],
      "metadata": {
        "id": "4U3jcHm08xwN"
      }
    },
    {
      "cell_type": "code",
      "source": [
        "df.head()"
      ],
      "metadata": {
        "colab": {
          "base_uri": "https://localhost:8080/",
          "height": 270
        },
        "id": "Op3xQeIR8z1i",
        "outputId": "3ec4a8ad-b46f-406c-c1d0-5198c20297aa"
      },
      "execution_count": 97,
      "outputs": [
        {
          "output_type": "execute_result",
          "data": {
            "text/plain": [
              "   age  job  marital  day  mon  dur  num_calls  y  call_type_cellular  \\\n",
              "0   58   12        3    5   12  261          1  0                   0   \n",
              "1   44   11        2    5   12  151          1  0                   0   \n",
              "2   33    3        3    5   12   76          1  0                   0   \n",
              "3   47   10        3    5   12   92          1  0                   0   \n",
              "4   33    1        2    5   12  198          1  0                   0   \n",
              "\n",
              "   call_type_telephone  call_type_unknown  education_qual_primary  \\\n",
              "0                    0                  1                       0   \n",
              "1                    0                  1                       0   \n",
              "2                    0                  1                       0   \n",
              "3                    0                  1                       0   \n",
              "4                    0                  1                       0   \n",
              "\n",
              "   education_qual_secondary  education_qual_tertiary  education_qual_unknown  \\\n",
              "0                         0                        1                       0   \n",
              "1                         1                        0                       0   \n",
              "2                         1                        0                       0   \n",
              "3                         0                        0                       1   \n",
              "4                         0                        0                       1   \n",
              "\n",
              "   prev_outcome_failure  prev_outcome_other  prev_outcome_success  \\\n",
              "0                     0                   0                     0   \n",
              "1                     0                   0                     0   \n",
              "2                     0                   0                     0   \n",
              "3                     0                   0                     0   \n",
              "4                     0                   0                     0   \n",
              "\n",
              "   prev_outcome_unknown  \n",
              "0                     1  \n",
              "1                     1  \n",
              "2                     1  \n",
              "3                     1  \n",
              "4                     1  "
            ],
            "text/html": [
              "\n",
              "  <div id=\"df-a2eb1abc-e536-425a-bdf0-0c1a710a13b2\">\n",
              "    <div class=\"colab-df-container\">\n",
              "      <div>\n",
              "<style scoped>\n",
              "    .dataframe tbody tr th:only-of-type {\n",
              "        vertical-align: middle;\n",
              "    }\n",
              "\n",
              "    .dataframe tbody tr th {\n",
              "        vertical-align: top;\n",
              "    }\n",
              "\n",
              "    .dataframe thead th {\n",
              "        text-align: right;\n",
              "    }\n",
              "</style>\n",
              "<table border=\"1\" class=\"dataframe\">\n",
              "  <thead>\n",
              "    <tr style=\"text-align: right;\">\n",
              "      <th></th>\n",
              "      <th>age</th>\n",
              "      <th>job</th>\n",
              "      <th>marital</th>\n",
              "      <th>day</th>\n",
              "      <th>mon</th>\n",
              "      <th>dur</th>\n",
              "      <th>num_calls</th>\n",
              "      <th>y</th>\n",
              "      <th>call_type_cellular</th>\n",
              "      <th>call_type_telephone</th>\n",
              "      <th>call_type_unknown</th>\n",
              "      <th>education_qual_primary</th>\n",
              "      <th>education_qual_secondary</th>\n",
              "      <th>education_qual_tertiary</th>\n",
              "      <th>education_qual_unknown</th>\n",
              "      <th>prev_outcome_failure</th>\n",
              "      <th>prev_outcome_other</th>\n",
              "      <th>prev_outcome_success</th>\n",
              "      <th>prev_outcome_unknown</th>\n",
              "    </tr>\n",
              "  </thead>\n",
              "  <tbody>\n",
              "    <tr>\n",
              "      <th>0</th>\n",
              "      <td>58</td>\n",
              "      <td>12</td>\n",
              "      <td>3</td>\n",
              "      <td>5</td>\n",
              "      <td>12</td>\n",
              "      <td>261</td>\n",
              "      <td>1</td>\n",
              "      <td>0</td>\n",
              "      <td>0</td>\n",
              "      <td>0</td>\n",
              "      <td>1</td>\n",
              "      <td>0</td>\n",
              "      <td>0</td>\n",
              "      <td>1</td>\n",
              "      <td>0</td>\n",
              "      <td>0</td>\n",
              "      <td>0</td>\n",
              "      <td>0</td>\n",
              "      <td>1</td>\n",
              "    </tr>\n",
              "    <tr>\n",
              "      <th>1</th>\n",
              "      <td>44</td>\n",
              "      <td>11</td>\n",
              "      <td>2</td>\n",
              "      <td>5</td>\n",
              "      <td>12</td>\n",
              "      <td>151</td>\n",
              "      <td>1</td>\n",
              "      <td>0</td>\n",
              "      <td>0</td>\n",
              "      <td>0</td>\n",
              "      <td>1</td>\n",
              "      <td>0</td>\n",
              "      <td>1</td>\n",
              "      <td>0</td>\n",
              "      <td>0</td>\n",
              "      <td>0</td>\n",
              "      <td>0</td>\n",
              "      <td>0</td>\n",
              "      <td>1</td>\n",
              "    </tr>\n",
              "    <tr>\n",
              "      <th>2</th>\n",
              "      <td>33</td>\n",
              "      <td>3</td>\n",
              "      <td>3</td>\n",
              "      <td>5</td>\n",
              "      <td>12</td>\n",
              "      <td>76</td>\n",
              "      <td>1</td>\n",
              "      <td>0</td>\n",
              "      <td>0</td>\n",
              "      <td>0</td>\n",
              "      <td>1</td>\n",
              "      <td>0</td>\n",
              "      <td>1</td>\n",
              "      <td>0</td>\n",
              "      <td>0</td>\n",
              "      <td>0</td>\n",
              "      <td>0</td>\n",
              "      <td>0</td>\n",
              "      <td>1</td>\n",
              "    </tr>\n",
              "    <tr>\n",
              "      <th>3</th>\n",
              "      <td>47</td>\n",
              "      <td>10</td>\n",
              "      <td>3</td>\n",
              "      <td>5</td>\n",
              "      <td>12</td>\n",
              "      <td>92</td>\n",
              "      <td>1</td>\n",
              "      <td>0</td>\n",
              "      <td>0</td>\n",
              "      <td>0</td>\n",
              "      <td>1</td>\n",
              "      <td>0</td>\n",
              "      <td>0</td>\n",
              "      <td>0</td>\n",
              "      <td>1</td>\n",
              "      <td>0</td>\n",
              "      <td>0</td>\n",
              "      <td>0</td>\n",
              "      <td>1</td>\n",
              "    </tr>\n",
              "    <tr>\n",
              "      <th>4</th>\n",
              "      <td>33</td>\n",
              "      <td>1</td>\n",
              "      <td>2</td>\n",
              "      <td>5</td>\n",
              "      <td>12</td>\n",
              "      <td>198</td>\n",
              "      <td>1</td>\n",
              "      <td>0</td>\n",
              "      <td>0</td>\n",
              "      <td>0</td>\n",
              "      <td>1</td>\n",
              "      <td>0</td>\n",
              "      <td>0</td>\n",
              "      <td>0</td>\n",
              "      <td>1</td>\n",
              "      <td>0</td>\n",
              "      <td>0</td>\n",
              "      <td>0</td>\n",
              "      <td>1</td>\n",
              "    </tr>\n",
              "  </tbody>\n",
              "</table>\n",
              "</div>\n",
              "      <button class=\"colab-df-convert\" onclick=\"convertToInteractive('df-a2eb1abc-e536-425a-bdf0-0c1a710a13b2')\"\n",
              "              title=\"Convert this dataframe to an interactive table.\"\n",
              "              style=\"display:none;\">\n",
              "        \n",
              "  <svg xmlns=\"http://www.w3.org/2000/svg\" height=\"24px\"viewBox=\"0 0 24 24\"\n",
              "       width=\"24px\">\n",
              "    <path d=\"M0 0h24v24H0V0z\" fill=\"none\"/>\n",
              "    <path d=\"M18.56 5.44l.94 2.06.94-2.06 2.06-.94-2.06-.94-.94-2.06-.94 2.06-2.06.94zm-11 1L8.5 8.5l.94-2.06 2.06-.94-2.06-.94L8.5 2.5l-.94 2.06-2.06.94zm10 10l.94 2.06.94-2.06 2.06-.94-2.06-.94-.94-2.06-.94 2.06-2.06.94z\"/><path d=\"M17.41 7.96l-1.37-1.37c-.4-.4-.92-.59-1.43-.59-.52 0-1.04.2-1.43.59L10.3 9.45l-7.72 7.72c-.78.78-.78 2.05 0 2.83L4 21.41c.39.39.9.59 1.41.59.51 0 1.02-.2 1.41-.59l7.78-7.78 2.81-2.81c.8-.78.8-2.07 0-2.86zM5.41 20L4 18.59l7.72-7.72 1.47 1.35L5.41 20z\"/>\n",
              "  </svg>\n",
              "      </button>\n",
              "      \n",
              "  <style>\n",
              "    .colab-df-container {\n",
              "      display:flex;\n",
              "      flex-wrap:wrap;\n",
              "      gap: 12px;\n",
              "    }\n",
              "\n",
              "    .colab-df-convert {\n",
              "      background-color: #E8F0FE;\n",
              "      border: none;\n",
              "      border-radius: 50%;\n",
              "      cursor: pointer;\n",
              "      display: none;\n",
              "      fill: #1967D2;\n",
              "      height: 32px;\n",
              "      padding: 0 0 0 0;\n",
              "      width: 32px;\n",
              "    }\n",
              "\n",
              "    .colab-df-convert:hover {\n",
              "      background-color: #E2EBFA;\n",
              "      box-shadow: 0px 1px 2px rgba(60, 64, 67, 0.3), 0px 1px 3px 1px rgba(60, 64, 67, 0.15);\n",
              "      fill: #174EA6;\n",
              "    }\n",
              "\n",
              "    [theme=dark] .colab-df-convert {\n",
              "      background-color: #3B4455;\n",
              "      fill: #D2E3FC;\n",
              "    }\n",
              "\n",
              "    [theme=dark] .colab-df-convert:hover {\n",
              "      background-color: #434B5C;\n",
              "      box-shadow: 0px 1px 3px 1px rgba(0, 0, 0, 0.15);\n",
              "      filter: drop-shadow(0px 1px 2px rgba(0, 0, 0, 0.3));\n",
              "      fill: #FFFFFF;\n",
              "    }\n",
              "  </style>\n",
              "\n",
              "      <script>\n",
              "        const buttonEl =\n",
              "          document.querySelector('#df-a2eb1abc-e536-425a-bdf0-0c1a710a13b2 button.colab-df-convert');\n",
              "        buttonEl.style.display =\n",
              "          google.colab.kernel.accessAllowed ? 'block' : 'none';\n",
              "\n",
              "        async function convertToInteractive(key) {\n",
              "          const element = document.querySelector('#df-a2eb1abc-e536-425a-bdf0-0c1a710a13b2');\n",
              "          const dataTable =\n",
              "            await google.colab.kernel.invokeFunction('convertToInteractive',\n",
              "                                                     [key], {});\n",
              "          if (!dataTable) return;\n",
              "\n",
              "          const docLinkHtml = 'Like what you see? Visit the ' +\n",
              "            '<a target=\"_blank\" href=https://colab.research.google.com/notebooks/data_table.ipynb>data table notebook</a>'\n",
              "            + ' to learn more about interactive tables.';\n",
              "          element.innerHTML = '';\n",
              "          dataTable['output_type'] = 'display_data';\n",
              "          await google.colab.output.renderOutput(dataTable, element);\n",
              "          const docLink = document.createElement('div');\n",
              "          docLink.innerHTML = docLinkHtml;\n",
              "          element.appendChild(docLink);\n",
              "        }\n",
              "      </script>\n",
              "    </div>\n",
              "  </div>\n",
              "  "
            ]
          },
          "metadata": {},
          "execution_count": 97
        }
      ]
    },
    {
      "cell_type": "markdown",
      "source": [
        "Checking Data is imbalanced or not"
      ],
      "metadata": {
        "id": "DjoIqtTy840w"
      }
    },
    {
      "cell_type": "code",
      "source": [
        "y_count = df.y.value_counts()\n",
        "print('Class 0:', y_count[0])\n",
        "print('Class 1:', y_count[1])\n",
        "print('Proportion of class 0 is ', round(y_count[0] * 100 / (y_count[1] + y_count[0]), 2),'%')\n",
        "y_count.plot(kind='bar', title='Count (target)');"
      ],
      "metadata": {
        "colab": {
          "base_uri": "https://localhost:8080/",
          "height": 333
        },
        "id": "Y5iVzUmk85jp",
        "outputId": "4ec33e05-291e-49d4-c3f1-36e6364bfd13"
      },
      "execution_count": 98,
      "outputs": [
        {
          "output_type": "stream",
          "name": "stdout",
          "text": [
            "Class 0: 39916\n",
            "Class 1: 5289\n",
            "Proportion of class 0 is  88.3 %\n"
          ]
        },
        {
          "output_type": "display_data",
          "data": {
            "text/plain": [
              "<Figure size 432x288 with 1 Axes>"
            ],
            "image/png": "[encoded data removed]"
          },
          "metadata": {}
        }
      ]
    },
    {
      "cell_type": "markdown",
      "source": [
        "\n",
        "\n",
        "*  More than 70 percent of the data belongs to one class.\n",
        "*  The data is imbalanced.\n",
        "\n"
      ],
      "metadata": {
        "id": "eLi9CXt_8-tk"
      }
    },
    {
      "cell_type": "markdown",
      "source": [
        "Splitting the data"
      ],
      "metadata": {
        "id": "_g9STO069HYD"
      }
    },
    {
      "cell_type": "code",
      "source": [
        "X = df.drop('y',axis=1).values\n",
        "y = df['y'].values"
      ],
      "metadata": {
        "id": "H8TQMryf9FGd"
      },
      "execution_count": 99,
      "outputs": []
    },
    {
      "cell_type": "code",
      "source": [
        "X_train, X_test, y_train, y_test = train_test_split(X, y, test_size=0.2, random_state=0)"
      ],
      "metadata": {
        "id": "Kzk2gjzl9M23"
      },
      "execution_count": 100,
      "outputs": []
    },
    {
      "cell_type": "markdown",
      "source": [
        "Feature Scaling"
      ],
      "metadata": {
        "id": "iq3B9u1Q9PnR"
      }
    },
    {
      "cell_type": "code",
      "source": [
        "scaler = StandardScaler() \n",
        "scaler.fit(X_train,y_train) \n",
        "X_train_scaled = scaler.transform(X_train) \n",
        "X_test_scaled = scaler.transform(X_test)\n",
        "     "
      ],
      "metadata": {
        "id": "AwsUwJZP9SS3"
      },
      "execution_count": 101,
      "outputs": []
    },
    {
      "cell_type": "markdown",
      "source": [
        "Converting Imbalanced data to balanced data by using SMOTE and CLUSTER CENTROID SAMPLING (SMOTEENN)"
      ],
      "metadata": {
        "id": "Hu6P7r1A-0h_"
      }
    },
    {
      "cell_type": "code",
      "source": [
        "smt = SMOTEENN(sampling_strategy='all')\n",
        "X_smt, y_smt = smt.fit_resample(X_train_scaled, y_train)\n",
        "     "
      ],
      "metadata": {
        "id": "CZGs-hrb-1cM"
      },
      "execution_count": 102,
      "outputs": []
    },
    {
      "cell_type": "code",
      "source": [
        "Counter(y_smt)"
      ],
      "metadata": {
        "colab": {
          "base_uri": "https://localhost:8080/"
        },
        "id": "PvA4P8mv_A4x",
        "outputId": "cd0431b5-8342-447a-854e-a60d10db6ed2"
      },
      "execution_count": 103,
      "outputs": [
        {
          "output_type": "execute_result",
          "data": {
            "text/plain": [
              "Counter({0: 25712, 1: 30350})"
            ]
          },
          "metadata": {},
          "execution_count": 103
        }
      ]
    },
    {
      "cell_type": "markdown",
      "source": [
        "\n",
        "\n",
        "* Finally, The data is balanced.\n",
        "\n"
      ],
      "metadata": {
        "id": "sl6-QxVr_DY4"
      }
    },
    {
      "cell_type": "markdown",
      "source": [
        "###Logistic Regression Model"
      ],
      "metadata": {
        "id": "sQhHHej1_Qt3"
      }
    },
    {
      "cell_type": "markdown",
      "source": [
        "Model Fitting"
      ],
      "metadata": {
        "id": "_gUeyYG1_dky"
      }
    },
    {
      "cell_type": "code",
      "source": [
        "log_r = LogisticRegression()\n",
        "log_r.fit(X_smt,y_smt)"
      ],
      "metadata": {
        "colab": {
          "base_uri": "https://localhost:8080/",
          "height": 75
        },
        "id": "2-e5dQ-7_NnW",
        "outputId": "656f21d9-e6d2-4fa4-b2df-c971cd0722a2"
      },
      "execution_count": 104,
      "outputs": [
        {
          "output_type": "execute_result",
          "data": {
            "text/plain": [
              "LogisticRegression()"
            ],
            "text/html": [
              "<style>#sk-container-id-2 {color: black;background-color: white;}#sk-container-id-2 pre{padding: 0;}#sk-container-id-2 div.sk-toggleable {background-color: white;}#sk-container-id-2 label.sk-toggleable__label {cursor: pointer;display: block;width: 100%;margin-bottom: 0;padding: 0.3em;box-sizing: border-box;text-align: center;}#sk-container-id-2 label.sk-toggleable__label-arrow:before {content: \"▸\";float: left;margin-right: 0.25em;color: #696969;}#sk-container-id-2 label.sk-toggleable__label-arrow:hover:before {color: black;}#sk-container-id-2 div.sk-estimator:hover label.sk-toggleable__label-arrow:before {color: black;}#sk-container-id-2 div.sk-toggleable__content {max-height: 0;max-width: 0;overflow: hidden;text-align: left;background-color: #f0f8ff;}#sk-container-id-2 div.sk-toggleable__content pre {margin: 0.2em;color: black;border-radius: 0.25em;background-color: #f0f8ff;}#sk-container-id-2 input.sk-toggleable__control:checked~div.sk-toggleable__content {max-height: 200px;max-width: 100%;overflow: auto;}#sk-container-id-2 input.sk-toggleable__control:checked~label.sk-toggleable__label-arrow:before {content: \"▾\";}#sk-container-id-2 div.sk-estimator input.sk-toggleable__control:checked~label.sk-toggleable__label {background-color: #d4ebff;}#sk-container-id-2 div.sk-label input.sk-toggleable__control:checked~label.sk-toggleable__label {background-color: #d4ebff;}#sk-container-id-2 input.sk-hidden--visually {border: 0;clip: rect(1px 1px 1px 1px);clip: rect(1px, 1px, 1px, 1px);height: 1px;margin: -1px;overflow: hidden;padding: 0;position: absolute;width: 1px;}#sk-container-id-2 div.sk-estimator {font-family: monospace;background-color: #f0f8ff;border: 1px dotted black;border-radius: 0.25em;box-sizing: border-box;margin-bottom: 0.5em;}#sk-container-id-2 div.sk-estimator:hover {background-color: #d4ebff;}#sk-container-id-2 div.sk-parallel-item::after {content: \"\";width: 100%;border-bottom: 1px solid gray;flex-grow: 1;}#sk-container-id-2 div.sk-label:hover label.sk-toggleable__label {background-color: #d4ebff;}#sk-container-id-2 div.sk-serial::before {content: \"\";position: absolute;border-left: 1px solid gray;box-sizing: border-box;top: 0;bottom: 0;left: 50%;z-index: 0;}#sk-container-id-2 div.sk-serial {display: flex;flex-direction: column;align-items: center;background-color: white;padding-right: 0.2em;padding-left: 0.2em;position: relative;}#sk-container-id-2 div.sk-item {position: relative;z-index: 1;}#sk-container-id-2 div.sk-parallel {display: flex;align-items: stretch;justify-content: center;background-color: white;position: relative;}#sk-container-id-2 div.sk-item::before, #sk-container-id-2 div.sk-parallel-item::before {content: \"\";position: absolute;border-left: 1px solid gray;box-sizing: border-box;top: 0;bottom: 0;left: 50%;z-index: -1;}#sk-container-id-2 div.sk-parallel-item {display: flex;flex-direction: column;z-index: 1;position: relative;background-color: white;}#sk-container-id-2 div.sk-parallel-item:first-child::after {align-self: flex-end;width: 50%;}#sk-container-id-2 div.sk-parallel-item:last-child::after {align-self: flex-start;width: 50%;}#sk-container-id-2 div.sk-parallel-item:only-child::after {width: 0;}#sk-container-id-2 div.sk-dashed-wrapped {border: 1px dashed gray;margin: 0 0.4em 0.5em 0.4em;box-sizing: border-box;padding-bottom: 0.4em;background-color: white;}#sk-container-id-2 div.sk-label label {font-family: monospace;font-weight: bold;display: inline-block;line-height: 1.2em;}#sk-container-id-2 div.sk-label-container {text-align: center;}#sk-container-id-2 div.sk-container {/* jupyter's `normalize.less` sets `[hidden] { display: none; }` but bootstrap.min.css set `[hidden] { display: none !important; }` so we also need the `!important` here to be able to override the default hidden behavior on the sphinx rendered scikit-learn.org. See: https://github.com/scikit-learn/scikit-learn/issues/21755 */display: inline-block !important;position: relative;}#sk-container-id-2 div.sk-text-repr-fallback {display: none;}</style><div id=\"sk-container-id-2\" class=\"sk-top-container\"><div class=\"sk-text-repr-fallback\"><pre>LogisticRegression()</pre><b>In a Jupyter environment, please rerun this cell to show the HTML representation or trust the notebook. <br />On GitHub, the HTML representation is unable to render, please try loading this page with nbviewer.org.</b></div><div class=\"sk-container\" hidden><div class=\"sk-item\"><div class=\"sk-estimator sk-toggleable\"><input class=\"sk-toggleable__control sk-hidden--visually\" id=\"sk-estimator-id-2\" type=\"checkbox\" checked><label for=\"sk-estimator-id-2\" class=\"sk-toggleable__label sk-toggleable__label-arrow\">LogisticRegression</label><div class=\"sk-toggleable__content\"><pre>LogisticRegression()</pre></div></div></div></div></div>"
            ]
          },
          "metadata": {},
          "execution_count": 104
        }
      ]
    },
    {
      "cell_type": "markdown",
      "source": [
        "Evaluation Metrics for Classification Problem"
      ],
      "metadata": {
        "id": "JGKoDAJz_hBj"
      }
    },
    {
      "cell_type": "markdown",
      "source": [
        "Accuracy Of The Model"
      ],
      "metadata": {
        "id": "lCsyBfJ1_jVb"
      }
    },
    {
      "cell_type": "code",
      "source": [
        "y_pred = log_r.predict(X_test_scaled)\n",
        "\n",
        "accuracy = accuracy_score(y_test, y_pred)\n",
        "print(\"Accuracy: %.2f%%\" % (accuracy * 100.0))\n",
        "     "
      ],
      "metadata": {
        "colab": {
          "base_uri": "https://localhost:8080/"
        },
        "id": "AfnrLnV1_lat",
        "outputId": "963e482d-ed50-45d9-ea5d-46ce870f1915"
      },
      "execution_count": 105,
      "outputs": [
        {
          "output_type": "stream",
          "name": "stdout",
          "text": [
            "Accuracy: 77.14%\n"
          ]
        }
      ]
    },
    {
      "cell_type": "markdown",
      "source": [
        "AUROC Score Of The Model"
      ],
      "metadata": {
        "id": "foXGdySs_oJ7"
      }
    },
    {
      "cell_type": "code",
      "source": [
        "# lr.score(X_test_scaled,y_test)\n",
        "print( \"AUROC on the sampled dataset : \",roc_auc_score(y_test, lr.predict_proba(X_test_scaled)[:, 1]))\n",
        "     "
      ],
      "metadata": {
        "colab": {
          "base_uri": "https://localhost:8080/",
          "height": 201
        },
        "id": "416lQPef_vwH",
        "outputId": "f8866839-24a9-4f65-e7de-627c067e4b3f"
      },
      "execution_count": 106,
      "outputs": [
        {
          "output_type": "error",
          "ename": "NameError",
          "evalue": "ignored",
          "traceback": [
            "\u001b[0;31m---------------------------------------------------------------------------\u001b[0m",
            "\u001b[0;31mNameError\u001b[0m                                 Traceback (most recent call last)",
            "\u001b[0;32m<ipython-input-106-1870a2e268a1>\u001b[0m in \u001b[0;36m<module>\u001b[0;34m\u001b[0m\n\u001b[1;32m      1\u001b[0m \u001b[0;31m# lr.score(X_test_scaled,y_test)\u001b[0m\u001b[0;34m\u001b[0m\u001b[0;34m\u001b[0m\u001b[0;34m\u001b[0m\u001b[0m\n\u001b[0;32m----> 2\u001b[0;31m \u001b[0mprint\u001b[0m\u001b[0;34m(\u001b[0m \u001b[0;34m\"AUROC on the sampled dataset : \"\u001b[0m\u001b[0;34m,\u001b[0m\u001b[0mroc_auc_score\u001b[0m\u001b[0;34m(\u001b[0m\u001b[0my_test\u001b[0m\u001b[0;34m,\u001b[0m \u001b[0mlr\u001b[0m\u001b[0;34m.\u001b[0m\u001b[0mpredict_proba\u001b[0m\u001b[0;34m(\u001b[0m\u001b[0mX_test_scaled\u001b[0m\u001b[0;34m)\u001b[0m\u001b[0;34m[\u001b[0m\u001b[0;34m:\u001b[0m\u001b[0;34m,\u001b[0m \u001b[0;36m1\u001b[0m\u001b[0;34m]\u001b[0m\u001b[0;34m)\u001b[0m\u001b[0;34m)\u001b[0m\u001b[0;34m\u001b[0m\u001b[0;34m\u001b[0m\u001b[0m\n\u001b[0m\u001b[1;32m      3\u001b[0m \u001b[0;34m\u001b[0m\u001b[0m\n",
            "\u001b[0;31mNameError\u001b[0m: name 'lr' is not defined"
          ]
        }
      ]
    },
    {
      "cell_type": "markdown",
      "source": [],
      "metadata": {
        "id": "nn_HMbQt_s9X"
      }
    },
    {
      "cell_type": "markdown",
      "source": [
        "### KNearest Neighbours Model"
      ],
      "metadata": {
        "id": "LvZCHqClCDQ5"
      }
    },
    {
      "cell_type": "code",
      "source": [
        "knn_values=np.arange(10, 36)\n",
        "cross_val_knn=[]\n",
        "for k in knn_values:\n",
        "  knn=KNeighborsClassifier(n_neighbors=k)\n",
        "  knn.fit(X_smt,y_smt)\n",
        "  cross_val = cross_val_score(knn, X_test_scaled, y_test,cv = 15).mean()\n",
        "  print(\"K value : \", k, \"cross_val_score : \", cross_val)\n",
        "  cross_val_knn.append(cross_val)\n",
        "print(\"The best K-Value is {} and Cross_val_score is: {}\".format(np.argmax(cross_val_knn) + 10, max(cross_val_knn)))\n",
        "     "
      ],
      "metadata": {
        "colab": {
          "base_uri": "https://localhost:8080/"
        },
        "id": "2IzHCKl2CFIV",
        "outputId": "773a4fe5-e08c-4a36-8f8e-68b8f05039c9"
      },
      "execution_count": 110,
      "outputs": [
        {
          "output_type": "stream",
          "name": "stdout",
          "text": [
            "K value :  10 cross_val_score :  0.888949677599452\n",
            "K value :  11 cross_val_score :  0.8881757693628572\n",
            "K value :  12 cross_val_score :  0.8897239531394339\n",
            "K value :  13 cross_val_score :  0.889613945775001\n",
            "K value :  14 cross_val_score :  0.8901656354624073\n",
            "K value :  15 cross_val_score :  0.8891711615418659\n",
            "K value :  16 cross_val_score :  0.889834327807254\n",
            "K value :  17 cross_val_score :  0.8901665537208749\n",
            "K value :  18 cross_val_score :  0.8900545261878131\n",
            "K value :  19 cross_val_score :  0.8896126602131461\n",
            "K value :  20 cross_val_score :  0.8902763774336145\n",
            "K value :  21 cross_val_score :  0.8904974940726416\n",
            "K value :  22 cross_val_score :  0.8903867521014345\n",
            "K value :  23 cross_val_score :  0.8908289853794886\n",
            "K value :  24 cross_val_score :  0.8913821442804436\n",
            "K value :  25 cross_val_score :  0.8918245612101912\n",
            "K value :  26 cross_val_score :  0.8917132682839033\n",
            "K value :  27 cross_val_score :  0.8918243775584976\n",
            "K value :  28 cross_val_score :  0.8913815933253627\n",
            "K value :  29 cross_val_score :  0.89138196062875\n",
            "K value :  30 cross_val_score :  0.8918241939068039\n",
            "K value :  31 cross_val_score :  0.891713819238984\n",
            "K value :  32 cross_val_score :  0.8924875438238852\n",
            "K value :  33 cross_val_score :  0.892045310545831\n",
            "K value :  34 cross_val_score :  0.8922662435331647\n",
            "K value :  35 cross_val_score :  0.891713451935597\n",
            "The best K-Value is 32 and Cross_val_score is: 0.8924875438238852\n"
          ]
        }
      ]
    },
    {
      "cell_type": "markdown",
      "source": [
        "AUROC Score of the Model"
      ],
      "metadata": {
        "id": "-c5Jqk54CXjw"
      }
    },
    {
      "cell_type": "code",
      "source": [
        "knn = KNeighborsClassifier(31)\n",
        "knn.fit(X_smt, y_smt)\n",
        "knn.score(X_test_scaled,y_test)"
      ],
      "metadata": {
        "colab": {
          "base_uri": "https://localhost:8080/"
        },
        "id": "OrdKAnY8CV09",
        "outputId": "0a956ae0-eb38-492b-f41c-675ab9fa0eb6"
      },
      "execution_count": 111,
      "outputs": [
        {
          "output_type": "execute_result",
          "data": {
            "text/plain": [
              "0.7784537108726911"
            ]
          },
          "metadata": {},
          "execution_count": 111
        }
      ]
    },
    {
      "cell_type": "code",
      "source": [
        "y_pred = knn.predict(X_test_scaled)\n",
        "accuracy = roc_auc_score(y_test, y_pred)\n",
        "print(\"Accuracy: %.2f%%\" % (accuracy * 100.0))\n",
        "     "
      ],
      "metadata": {
        "colab": {
          "base_uri": "https://localhost:8080/"
        },
        "id": "tjHNZAeNCqBS",
        "outputId": "370626ea-fee6-4e8a-a354-dd3b79dea5ca"
      },
      "execution_count": 112,
      "outputs": [
        {
          "output_type": "stream",
          "name": "stdout",
          "text": [
            "Accuracy: 80.87%\n"
          ]
        }
      ]
    },
    {
      "cell_type": "code",
      "source": [
        "plot_roc_curve(knn, X_test_scaled, y_test)\n",
        "plt.show()"
      ],
      "metadata": {
        "colab": {
          "base_uri": "https://localhost:8080/",
          "height": 184
        },
        "id": "eZNDOzgqCu-U",
        "outputId": "33587cd9-3b59-4840-f57c-50ab67fa5ba1"
      },
      "execution_count": 113,
      "outputs": [
        {
          "output_type": "error",
          "ename": "NameError",
          "evalue": "ignored",
          "traceback": [
            "\u001b[0;31m---------------------------------------------------------------------------\u001b[0m",
            "\u001b[0;31mNameError\u001b[0m                                 Traceback (most recent call last)",
            "\u001b[0;32m<ipython-input-113-5501f74123ca>\u001b[0m in \u001b[0;36m<module>\u001b[0;34m\u001b[0m\n\u001b[0;32m----> 1\u001b[0;31m \u001b[0mplot_roc_curve\u001b[0m\u001b[0;34m(\u001b[0m\u001b[0mknn\u001b[0m\u001b[0;34m,\u001b[0m \u001b[0mX_test_scaled\u001b[0m\u001b[0;34m,\u001b[0m \u001b[0my_test\u001b[0m\u001b[0;34m)\u001b[0m\u001b[0;34m\u001b[0m\u001b[0;34m\u001b[0m\u001b[0m\n\u001b[0m\u001b[1;32m      2\u001b[0m \u001b[0mplt\u001b[0m\u001b[0;34m.\u001b[0m\u001b[0mshow\u001b[0m\u001b[0;34m(\u001b[0m\u001b[0;34m)\u001b[0m\u001b[0;34m\u001b[0m\u001b[0;34m\u001b[0m\u001b[0m\n",
            "\u001b[0;31mNameError\u001b[0m: name 'plot_roc_curve' is not defined"
          ]
        }
      ]
    },
    {
      "cell_type": "markdown",
      "source": [
        "# Decision Tree Classifier Model"
      ],
      "metadata": {
        "id": "TQ3W_A50C1-V"
      }
    },
    {
      "cell_type": "markdown",
      "source": [
        "Model Fitting"
      ],
      "metadata": {
        "id": "6NrkV-CbC6fK"
      }
    },
    {
      "cell_type": "code",
      "source": [
        "dt = DecisionTreeClassifier()\n",
        "dt.fit(X_smt, y_smt)"
      ],
      "metadata": {
        "colab": {
          "base_uri": "https://localhost:8080/",
          "height": 75
        },
        "id": "STpVEaHXC3ul",
        "outputId": "b0371050-f6b4-4b24-b91b-059de7c2c0ed"
      },
      "execution_count": 114,
      "outputs": [
        {
          "output_type": "execute_result",
          "data": {
            "text/plain": [
              "DecisionTreeClassifier()"
            ],
            "text/html": [
              "<style>#sk-container-id-3 {color: black;background-color: white;}#sk-container-id-3 pre{padding: 0;}#sk-container-id-3 div.sk-toggleable {background-color: white;}#sk-container-id-3 label.sk-toggleable__label {cursor: pointer;display: block;width: 100%;margin-bottom: 0;padding: 0.3em;box-sizing: border-box;text-align: center;}#sk-container-id-3 label.sk-toggleable__label-arrow:before {content: \"▸\";float: left;margin-right: 0.25em;color: #696969;}#sk-container-id-3 label.sk-toggleable__label-arrow:hover:before {color: black;}#sk-container-id-3 div.sk-estimator:hover label.sk-toggleable__label-arrow:before {color: black;}#sk-container-id-3 div.sk-toggleable__content {max-height: 0;max-width: 0;overflow: hidden;text-align: left;background-color: #f0f8ff;}#sk-container-id-3 div.sk-toggleable__content pre {margin: 0.2em;color: black;border-radius: 0.25em;background-color: #f0f8ff;}#sk-container-id-3 input.sk-toggleable__control:checked~div.sk-toggleable__content {max-height: 200px;max-width: 100%;overflow: auto;}#sk-container-id-3 input.sk-toggleable__control:checked~label.sk-toggleable__label-arrow:before {content: \"▾\";}#sk-container-id-3 div.sk-estimator input.sk-toggleable__control:checked~label.sk-toggleable__label {background-color: #d4ebff;}#sk-container-id-3 div.sk-label input.sk-toggleable__control:checked~label.sk-toggleable__label {background-color: #d4ebff;}#sk-container-id-3 input.sk-hidden--visually {border: 0;clip: rect(1px 1px 1px 1px);clip: rect(1px, 1px, 1px, 1px);height: 1px;margin: -1px;overflow: hidden;padding: 0;position: absolute;width: 1px;}#sk-container-id-3 div.sk-estimator {font-family: monospace;background-color: #f0f8ff;border: 1px dotted black;border-radius: 0.25em;box-sizing: border-box;margin-bottom: 0.5em;}#sk-container-id-3 div.sk-estimator:hover {background-color: #d4ebff;}#sk-container-id-3 div.sk-parallel-item::after {content: \"\";width: 100%;border-bottom: 1px solid gray;flex-grow: 1;}#sk-container-id-3 div.sk-label:hover label.sk-toggleable__label {background-color: #d4ebff;}#sk-container-id-3 div.sk-serial::before {content: \"\";position: absolute;border-left: 1px solid gray;box-sizing: border-box;top: 0;bottom: 0;left: 50%;z-index: 0;}#sk-container-id-3 div.sk-serial {display: flex;flex-direction: column;align-items: center;background-color: white;padding-right: 0.2em;padding-left: 0.2em;position: relative;}#sk-container-id-3 div.sk-item {position: relative;z-index: 1;}#sk-container-id-3 div.sk-parallel {display: flex;align-items: stretch;justify-content: center;background-color: white;position: relative;}#sk-container-id-3 div.sk-item::before, #sk-container-id-3 div.sk-parallel-item::before {content: \"\";position: absolute;border-left: 1px solid gray;box-sizing: border-box;top: 0;bottom: 0;left: 50%;z-index: -1;}#sk-container-id-3 div.sk-parallel-item {display: flex;flex-direction: column;z-index: 1;position: relative;background-color: white;}#sk-container-id-3 div.sk-parallel-item:first-child::after {align-self: flex-end;width: 50%;}#sk-container-id-3 div.sk-parallel-item:last-child::after {align-self: flex-start;width: 50%;}#sk-container-id-3 div.sk-parallel-item:only-child::after {width: 0;}#sk-container-id-3 div.sk-dashed-wrapped {border: 1px dashed gray;margin: 0 0.4em 0.5em 0.4em;box-sizing: border-box;padding-bottom: 0.4em;background-color: white;}#sk-container-id-3 div.sk-label label {font-family: monospace;font-weight: bold;display: inline-block;line-height: 1.2em;}#sk-container-id-3 div.sk-label-container {text-align: center;}#sk-container-id-3 div.sk-container {/* jupyter's `normalize.less` sets `[hidden] { display: none; }` but bootstrap.min.css set `[hidden] { display: none !important; }` so we also need the `!important` here to be able to override the default hidden behavior on the sphinx rendered scikit-learn.org. See: https://github.com/scikit-learn/scikit-learn/issues/21755 */display: inline-block !important;position: relative;}#sk-container-id-3 div.sk-text-repr-fallback {display: none;}</style><div id=\"sk-container-id-3\" class=\"sk-top-container\"><div class=\"sk-text-repr-fallback\"><pre>DecisionTreeClassifier()</pre><b>In a Jupyter environment, please rerun this cell to show the HTML representation or trust the notebook. <br />On GitHub, the HTML representation is unable to render, please try loading this page with nbviewer.org.</b></div><div class=\"sk-container\" hidden><div class=\"sk-item\"><div class=\"sk-estimator sk-toggleable\"><input class=\"sk-toggleable__control sk-hidden--visually\" id=\"sk-estimator-id-3\" type=\"checkbox\" checked><label for=\"sk-estimator-id-3\" class=\"sk-toggleable__label sk-toggleable__label-arrow\">DecisionTreeClassifier</label><div class=\"sk-toggleable__content\"><pre>DecisionTreeClassifier()</pre></div></div></div></div></div>"
            ]
          },
          "metadata": {},
          "execution_count": 114
        }
      ]
    },
    {
      "cell_type": "markdown",
      "source": [
        "Calculating Accuracy and AUROC Score of the Model"
      ],
      "metadata": {
        "id": "xnNs8oncC9_a"
      }
    },
    {
      "cell_type": "code",
      "source": [
        "y_pred = dt.predict(X_test_scaled) \n",
        "\n",
        "# Compute test set accuracy\n",
        "acc = accuracy_score(y_test, y_pred)\n",
        "print(\"Test set accuracy: {:.2f}\".format(acc))\n",
        "acc = roc_auc_score(y_test, y_pred)\n",
        "print(\"Test set auc: {:.2f}\".format(acc))\n",
        "plot_roc_curve(dt, X_test_scaled, y_test)\n",
        "\n"
      ],
      "metadata": {
        "colab": {
          "base_uri": "https://localhost:8080/",
          "height": 253
        },
        "id": "FWOCvFnxDA5K",
        "outputId": "3b391837-b0ee-4ec8-f0c5-4118be755f35"
      },
      "execution_count": 115,
      "outputs": [
        {
          "output_type": "stream",
          "name": "stdout",
          "text": [
            "Test set accuracy: 0.85\n",
            "Test set auc: 0.81\n"
          ]
        },
        {
          "output_type": "error",
          "ename": "NameError",
          "evalue": "ignored",
          "traceback": [
            "\u001b[0;31m---------------------------------------------------------------------------\u001b[0m",
            "\u001b[0;31mNameError\u001b[0m                                 Traceback (most recent call last)",
            "\u001b[0;32m<ipython-input-115-d69b92ff42aa>\u001b[0m in \u001b[0;36m<module>\u001b[0;34m\u001b[0m\n\u001b[1;32m      6\u001b[0m \u001b[0macc\u001b[0m \u001b[0;34m=\u001b[0m \u001b[0mroc_auc_score\u001b[0m\u001b[0;34m(\u001b[0m\u001b[0my_test\u001b[0m\u001b[0;34m,\u001b[0m \u001b[0my_pred\u001b[0m\u001b[0;34m)\u001b[0m\u001b[0;34m\u001b[0m\u001b[0;34m\u001b[0m\u001b[0m\n\u001b[1;32m      7\u001b[0m \u001b[0mprint\u001b[0m\u001b[0;34m(\u001b[0m\u001b[0;34m\"Test set auc: {:.2f}\"\u001b[0m\u001b[0;34m.\u001b[0m\u001b[0mformat\u001b[0m\u001b[0;34m(\u001b[0m\u001b[0macc\u001b[0m\u001b[0;34m)\u001b[0m\u001b[0;34m)\u001b[0m\u001b[0;34m\u001b[0m\u001b[0;34m\u001b[0m\u001b[0m\n\u001b[0;32m----> 8\u001b[0;31m \u001b[0mplot_roc_curve\u001b[0m\u001b[0;34m(\u001b[0m\u001b[0mdt\u001b[0m\u001b[0;34m,\u001b[0m \u001b[0mX_test_scaled\u001b[0m\u001b[0;34m,\u001b[0m \u001b[0my_test\u001b[0m\u001b[0;34m)\u001b[0m\u001b[0;34m\u001b[0m\u001b[0;34m\u001b[0m\u001b[0m\n\u001b[0m\u001b[1;32m      9\u001b[0m \u001b[0;34m\u001b[0m\u001b[0m\n",
            "\u001b[0;31mNameError\u001b[0m: name 'plot_roc_curve' is not defined"
          ]
        }
      ]
    },
    {
      "cell_type": "code",
      "source": [
        "acc = roc_auc_score(y_test, dt.predict(X_test_scaled))\n",
        "print(\"Train set AUC : \", acc)"
      ],
      "metadata": {
        "colab": {
          "base_uri": "https://localhost:8080/"
        },
        "id": "SyA6TBG_DHbH",
        "outputId": "28a7a94c-1bc7-4e8c-ca2a-8eb2bfa48302"
      },
      "execution_count": 116,
      "outputs": [
        {
          "output_type": "stream",
          "name": "stdout",
          "text": [
            "Train set AUC :  0.8138068185135664\n"
          ]
        }
      ]
    },
    {
      "cell_type": "markdown",
      "source": [
        "# Random Forest Classifier Model"
      ],
      "metadata": {
        "id": "pLPhTnl0DKc6"
      }
    },
    {
      "cell_type": "markdown",
      "source": [
        "Model Fitting"
      ],
      "metadata": {
        "id": "HtE2kZm0DLaE"
      }
    },
    {
      "cell_type": "code",
      "source": [
        "rf = RandomForestClassifier(n_estimators= 100, max_depth = 3, max_features='sqrt')\n",
        "\n",
        "rf.fit(X_smt, y_smt)"
      ],
      "metadata": {
        "colab": {
          "base_uri": "https://localhost:8080/",
          "height": 75
        },
        "id": "hk77C1eHDNUV",
        "outputId": "1e7ad2ff-e162-4ee3-89a2-3cffa410c804"
      },
      "execution_count": 117,
      "outputs": [
        {
          "output_type": "execute_result",
          "data": {
            "text/plain": [
              "RandomForestClassifier(max_depth=3)"
            ],
            "text/html": [
              "<style>#sk-container-id-4 {color: black;background-color: white;}#sk-container-id-4 pre{padding: 0;}#sk-container-id-4 div.sk-toggleable {background-color: white;}#sk-container-id-4 label.sk-toggleable__label {cursor: pointer;display: block;width: 100%;margin-bottom: 0;padding: 0.3em;box-sizing: border-box;text-align: center;}#sk-container-id-4 label.sk-toggleable__label-arrow:before {content: \"▸\";float: left;margin-right: 0.25em;color: #696969;}#sk-container-id-4 label.sk-toggleable__label-arrow:hover:before {color: black;}#sk-container-id-4 div.sk-estimator:hover label.sk-toggleable__label-arrow:before {color: black;}#sk-container-id-4 div.sk-toggleable__content {max-height: 0;max-width: 0;overflow: hidden;text-align: left;background-color: #f0f8ff;}#sk-container-id-4 div.sk-toggleable__content pre {margin: 0.2em;color: black;border-radius: 0.25em;background-color: #f0f8ff;}#sk-container-id-4 input.sk-toggleable__control:checked~div.sk-toggleable__content {max-height: 200px;max-width: 100%;overflow: auto;}#sk-container-id-4 input.sk-toggleable__control:checked~label.sk-toggleable__label-arrow:before {content: \"▾\";}#sk-container-id-4 div.sk-estimator input.sk-toggleable__control:checked~label.sk-toggleable__label {background-color: #d4ebff;}#sk-container-id-4 div.sk-label input.sk-toggleable__control:checked~label.sk-toggleable__label {background-color: #d4ebff;}#sk-container-id-4 input.sk-hidden--visually {border: 0;clip: rect(1px 1px 1px 1px);clip: rect(1px, 1px, 1px, 1px);height: 1px;margin: -1px;overflow: hidden;padding: 0;position: absolute;width: 1px;}#sk-container-id-4 div.sk-estimator {font-family: monospace;background-color: #f0f8ff;border: 1px dotted black;border-radius: 0.25em;box-sizing: border-box;margin-bottom: 0.5em;}#sk-container-id-4 div.sk-estimator:hover {background-color: #d4ebff;}#sk-container-id-4 div.sk-parallel-item::after {content: \"\";width: 100%;border-bottom: 1px solid gray;flex-grow: 1;}#sk-container-id-4 div.sk-label:hover label.sk-toggleable__label {background-color: #d4ebff;}#sk-container-id-4 div.sk-serial::before {content: \"\";position: absolute;border-left: 1px solid gray;box-sizing: border-box;top: 0;bottom: 0;left: 50%;z-index: 0;}#sk-container-id-4 div.sk-serial {display: flex;flex-direction: column;align-items: center;background-color: white;padding-right: 0.2em;padding-left: 0.2em;position: relative;}#sk-container-id-4 div.sk-item {position: relative;z-index: 1;}#sk-container-id-4 div.sk-parallel {display: flex;align-items: stretch;justify-content: center;background-color: white;position: relative;}#sk-container-id-4 div.sk-item::before, #sk-container-id-4 div.sk-parallel-item::before {content: \"\";position: absolute;border-left: 1px solid gray;box-sizing: border-box;top: 0;bottom: 0;left: 50%;z-index: -1;}#sk-container-id-4 div.sk-parallel-item {display: flex;flex-direction: column;z-index: 1;position: relative;background-color: white;}#sk-container-id-4 div.sk-parallel-item:first-child::after {align-self: flex-end;width: 50%;}#sk-container-id-4 div.sk-parallel-item:last-child::after {align-self: flex-start;width: 50%;}#sk-container-id-4 div.sk-parallel-item:only-child::after {width: 0;}#sk-container-id-4 div.sk-dashed-wrapped {border: 1px dashed gray;margin: 0 0.4em 0.5em 0.4em;box-sizing: border-box;padding-bottom: 0.4em;background-color: white;}#sk-container-id-4 div.sk-label label {font-family: monospace;font-weight: bold;display: inline-block;line-height: 1.2em;}#sk-container-id-4 div.sk-label-container {text-align: center;}#sk-container-id-4 div.sk-container {/* jupyter's `normalize.less` sets `[hidden] { display: none; }` but bootstrap.min.css set `[hidden] { display: none !important; }` so we also need the `!important` here to be able to override the default hidden behavior on the sphinx rendered scikit-learn.org. See: https://github.com/scikit-learn/scikit-learn/issues/21755 */display: inline-block !important;position: relative;}#sk-container-id-4 div.sk-text-repr-fallback {display: none;}</style><div id=\"sk-container-id-4\" class=\"sk-top-container\"><div class=\"sk-text-repr-fallback\"><pre>RandomForestClassifier(max_depth=3)</pre><b>In a Jupyter environment, please rerun this cell to show the HTML representation or trust the notebook. <br />On GitHub, the HTML representation is unable to render, please try loading this page with nbviewer.org.</b></div><div class=\"sk-container\" hidden><div class=\"sk-item\"><div class=\"sk-estimator sk-toggleable\"><input class=\"sk-toggleable__control sk-hidden--visually\" id=\"sk-estimator-id-4\" type=\"checkbox\" checked><label for=\"sk-estimator-id-4\" class=\"sk-toggleable__label sk-toggleable__label-arrow\">RandomForestClassifier</label><div class=\"sk-toggleable__content\"><pre>RandomForestClassifier(max_depth=3)</pre></div></div></div></div></div>"
            ]
          },
          "metadata": {},
          "execution_count": 117
        }
      ]
    },
    {
      "cell_type": "markdown",
      "source": [
        "Accuracy Of the Model"
      ],
      "metadata": {
        "id": "96kXI19ODS0R"
      }
    },
    {
      "cell_type": "code",
      "source": [
        "y_pred = rf.predict(X_test_scaled)\n",
        "\n",
        "accuracy = accuracy_score(y_test, y_pred)\n",
        "print(\"Accuracy: %.2f%%\" % (accuracy * 100.0))"
      ],
      "metadata": {
        "colab": {
          "base_uri": "https://localhost:8080/"
        },
        "id": "AXCgysEXDTU6",
        "outputId": "df746848-0931-42f3-cdc9-2cb79d30a4c3"
      },
      "execution_count": 118,
      "outputs": [
        {
          "output_type": "stream",
          "name": "stdout",
          "text": [
            "Accuracy: 71.78%\n"
          ]
        }
      ]
    },
    {
      "cell_type": "markdown",
      "source": [
        "# AUROC Score Of The Model"
      ],
      "metadata": {
        "id": "HRemkXZYDYgJ"
      }
    },
    {
      "cell_type": "code",
      "source": [
        "roc_auc_score(y_test, rf.predict_proba(X_test_scaled)[:, 1])\n",
        "     "
      ],
      "metadata": {
        "colab": {
          "base_uri": "https://localhost:8080/"
        },
        "id": "NgjzJfv1DZu3",
        "outputId": "db35a971-22cd-4b44-b542-f791f14a7c41"
      },
      "execution_count": 119,
      "outputs": [
        {
          "output_type": "execute_result",
          "data": {
            "text/plain": [
              "0.8737329580951603"
            ]
          },
          "metadata": {},
          "execution_count": 119
        }
      ]
    },
    {
      "cell_type": "markdown",
      "source": [
        "### XG-Boost Model"
      ],
      "metadata": {
        "id": "0b0PT76aHgtz"
      }
    },
    {
      "cell_type": "markdown",
      "source": [
        "Model Fitting and Checking all Learning Rate Values"
      ],
      "metadata": {
        "id": "NKc9valPHlTJ"
      }
    },
    {
      "cell_type": "code",
      "source": [
        "for lr in [0.01,0.02,0.03,0.04,0.05,0.06,0.07,0.08,0.09,0.1,0.11,0.12,0.13,0.14,0.15,0.2,0.5,0.7,1]:\n",
        "  model = xgb.XGBClassifier(learning_rate = lr, n_estimators=100, verbosity = 0)\n",
        "  model.fit(X_smt, y_smt)\n",
        "  model.score(X_test_scaled, y_test) # scoring the model - r2 squared\n",
        "  print(\"Learning rate : \", lr, \" Train score : \", model.score(X_train_scaled, y_train), \" Cross-Val score : \", np.mean(cross_val_score(model, X_train_scaled, y_train, cv=10)))\n",
        "     "
      ],
      "metadata": {
        "colab": {
          "base_uri": "https://localhost:8080/"
        },
        "id": "50FDSblyHjYP",
        "outputId": "5aef20ac-7ca0-463b-ec69-0c119603b036"
      },
      "execution_count": 120,
      "outputs": [
        {
          "output_type": "stream",
          "name": "stdout",
          "text": [
            "Learning rate :  0.01  Train score :  0.784564760535339  Cross-Val score :  0.9007853309470274\n",
            "Learning rate :  0.02  Train score :  0.8026213914390001  Cross-Val score :  0.902084872688215\n",
            "Learning rate :  0.03  Train score :  0.8130184714080301  Cross-Val score :  0.9026379623875455\n",
            "Learning rate :  0.04  Train score :  0.8294989492312798  Cross-Val score :  0.9026656172548021\n",
            "Learning rate :  0.05  Train score :  0.8428547727021347  Cross-Val score :  0.9038823014354535\n",
            "Learning rate :  0.06  Train score :  0.853887844265015  Cross-Val score :  0.9046289216849634\n",
            "Learning rate :  0.07  Train score :  0.8628470301957748  Cross-Val score :  0.9041863902882407\n",
            "Learning rate :  0.08  Train score :  0.8667182833757328  Cross-Val score :  0.9042693625358129\n",
            "Learning rate :  0.09  Train score :  0.8721103860192456  Cross-Val score :  0.9044906091196683\n",
            "Learning rate :  0.1  Train score :  0.8735759318659441  Cross-Val score :  0.9046842467110817\n",
            "Learning rate :  0.11  Train score :  0.8779449175976108  Cross-Val score :  0.904684231419477\n",
            "Learning rate :  0.12  Train score :  0.8799081959960181  Cross-Val score :  0.9049331558079963\n",
            "Learning rate :  0.13  Train score :  0.8808760092910076  Cross-Val score :  0.9047396405494211\n",
            "Learning rate :  0.14  Train score :  0.8833093684326955  Cross-Val score :  0.9047119168699431\n",
            "Learning rate :  0.15  Train score :  0.884691958854109  Cross-Val score :  0.904380089046073\n",
            "Learning rate :  0.2  Train score :  0.8918814290454595  Cross-Val score :  0.9051542953506182\n",
            "Learning rate :  0.5  Train score :  0.9096615418648379  Cross-Val score :  0.900591884500674\n",
            "Learning rate :  0.7  Train score :  0.9151919035504922  Cross-Val score :  0.8983519320025153\n",
            "Learning rate :  1  Train score :  0.9183718615197434  Cross-Val score :  0.894065947492299\n"
          ]
        }
      ]
    },
    {
      "cell_type": "markdown",
      "source": [
        "AUROC Score Of The Model"
      ],
      "metadata": {
        "id": "nyPlgErbMn-j"
      }
    },
    {
      "cell_type": "code",
      "source": [
        "model = xgb.XGBClassifier(learning_rate = 0.15, n_estimators=100)\n",
        "model.fit(X_smt, y_smt)\n",
        "model.score(X_test_scaled, y_test)\n",
        "     "
      ],
      "metadata": {
        "colab": {
          "base_uri": "https://localhost:8080/"
        },
        "id": "j9EpxSsLMpLu",
        "outputId": "863171a1-ba43-4d4e-80d8-1a342381a5cb"
      },
      "execution_count": 121,
      "outputs": [
        {
          "output_type": "execute_result",
          "data": {
            "text/plain": [
              "0.8737971463333702"
            ]
          },
          "metadata": {},
          "execution_count": 121
        }
      ]
    },
    {
      "cell_type": "code",
      "source": [
        "roc_auc_score(y_test, model.predict_proba(X_test_scaled)[:, 1])"
      ],
      "metadata": {
        "colab": {
          "base_uri": "https://localhost:8080/"
        },
        "id": "yppDkqBHNAzq",
        "outputId": "80cf216a-5294-43f1-b15c-6fb4c8045f38"
      },
      "execution_count": 122,
      "outputs": [
        {
          "output_type": "execute_result",
          "data": {
            "text/plain": [
              "0.9255067175028755"
            ]
          },
          "metadata": {},
          "execution_count": 122
        }
      ]
    },
    {
      "cell_type": "code",
      "source": [
        "for i in [log_r, knn, dt, rf, model]:\n",
        "  auroc_score = roc_auc_score(y_test, i.predict_proba(X_test_scaled)[:, 1])*100\n",
        "  print(\"AUROC Score of Model: {} is \\033[1m{}%\\033[0m\".format(i, round(auroc_score,2)))"
      ],
      "metadata": {
        "colab": {
          "base_uri": "https://localhost:8080/"
        },
        "id": "O36hC_7-NEcm",
        "outputId": "e71d0ee3-6833-48f3-bcbc-d725c456018b"
      },
      "execution_count": 123,
      "outputs": [
        {
          "output_type": "stream",
          "name": "stdout",
          "text": [
            "AUROC Score of Model: LogisticRegression() is \u001b[1m88.28%\u001b[0m\n",
            "AUROC Score of Model: KNeighborsClassifier(n_neighbors=31) is \u001b[1m87.71%\u001b[0m\n",
            "AUROC Score of Model: DecisionTreeClassifier() is \u001b[1m81.38%\u001b[0m\n",
            "AUROC Score of Model: RandomForestClassifier(max_depth=3) is \u001b[1m87.37%\u001b[0m\n",
            "AUROC Score of Model: XGBClassifier(base_score=None, booster=None, callbacks=None,\n",
            "              colsample_bylevel=None, colsample_bynode=None,\n",
            "              colsample_bytree=None, early_stopping_rounds=None,\n",
            "              enable_categorical=False, eval_metric=None, feature_types=None,\n",
            "              gamma=None, gpu_id=None, grow_policy=None, importance_type=None,\n",
            "              interaction_constraints=None, learning_rate=0.15, max_bin=None,\n",
            "              max_cat_threshold=None, max_cat_to_onehot=None,\n",
            "              max_delta_step=None, max_depth=None, max_leaves=None,\n",
            "              min_child_weight=None, missing=nan, monotone_constraints=None,\n",
            "              n_estimators=100, n_jobs=None, num_parallel_tree=None,\n",
            "              predictor=None, random_state=None, ...) is \u001b[1m92.55%\u001b[0m\n"
          ]
        }
      ]
    },
    {
      "cell_type": "markdown",
      "source": [
        "The AUROC Scores Of All Models are"
      ],
      "metadata": {
        "id": "xgUHbwqQNJ1U"
      }
    },
    {
      "cell_type": "markdown",
      "source": [
        "\n",
        "\n",
        "*   AUROC Score of Model: LogisticRegression() is 88.28%\n",
        "*   AUROC Score of Model: KNeighborsClassifier(n_neighbors=31) is 87.71%\n",
        "*   AUROC Score of Model: DecisionTreeClassifier() is 81.38%\n",
        "*   AUROC Score of Model: RandomForestClassifier(max_depth=3) is 87.37%\n",
        "\n",
        "\n",
        "\n",
        "\n"
      ],
      "metadata": {
        "id": "PP9h5cXnNa2B"
      }
    },
    {
      "cell_type": "markdown",
      "source": [
        "Conclusion: The Best Model For This Dataset Is XGBoost Classifier"
      ],
      "metadata": {
        "id": "EUoDwy_AN15S"
      }
    }
  ]
}